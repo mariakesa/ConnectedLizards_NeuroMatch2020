{
 "cells": [
  {
   "cell_type": "code",
   "execution_count": 18,
   "metadata": {},
   "outputs": [],
   "source": [
    "# Import libraries\n",
    "import numpy as np\n",
    "import os , csv\n",
    "from os import listdir\n",
    "import matplotlib.pyplot as plt\n",
    "import pandas as pd\n",
    "from scipy.sparse import csr_matrix\n",
    "from scipy.interpolate import interp1d\n",
    "from sklearn.decomposition import TruncatedSVD\n",
    "%matplotlib inline\n",
    "import matplotlib.pyplot as plt\n",
    "import DataPreprocessing_XW as spike_process\n",
    "\n"
   ]
  },
  {
   "cell_type": "code",
   "execution_count": 2,
   "metadata": {},
   "outputs": [],
   "source": [
    "# Load desired data from 1 session 1 animal\n",
    "# Note that there are 340 trials in 1 session\n",
    "# (For more info https://github.com/nsteinme/steinmetz-et-al-2019/wiki/data-files)\n",
    "\n",
    "data_path = '/Users/xinweichia/Documents/connected_lizards/Steinmetz_dataset/Richards_2017-10-31'\n",
    "\n",
    "trials_intervals = np.load(data_path+'/'+'trials.intervals.npy') # in seconds\n",
    "spike_times = np.load(data_path+'/'+'spikes.times.npy') * 1000 # Unbinned spike times in ms\n",
    "trials_gocue_times = np.load(data_path+'/'+'trials.goCue_times.npy') \n",
    "trials_response_choice = np.load(data_path+'/'+'trials.response_choice.npy') # -1 left, 1, right, 0 no response\n",
    "spontaneous_intervals = np.load(data_path+'/'+'spontaneous.intervals.npy')\n",
    "trials_response_time = np.load(data_path+'/'+'trials.response_times.npy')\n",
    "spike_clusters = np.load(data_path+'/'+'spikes.clusters.npy')\n",
    "site_positions = np.load(data_path+'/'+'channels.sitePositions.npy')\n",
    "clusters_depths = np.load(data_path+'/'+'clusters.depths.npy')\n",
    "clusters_annotation = np.load(data_path+'/'+'clusters._phy_annotation.npy')\n",
    "channel_sites = np.load(data_path+'/'+'channels.site.npy')\n",
    "channels_brainlocation = pd.read_csv(data_path+'/'+'channels.brainLocation.tsv', sep='\\t')\n",
    "clusters_probes = np.load(data_path+'/'+'clusters.probes.npy')\n",
    "channels_probe = np.load(data_path+'/'+'channels.probe.npy')\n",
    "trials_visual_time = np.load(data_path+'/'+'trials.visualStim_times.npy')\n",
    "trial_feedback_time = np.load(data_path+'/'+'trials.feedback_times.npy')\n",
    "trial_feedback_type = np.load(data_path+'/'+'trials.feedbackType.npy')\n",
    "trial_response_time = np.load(data_path+'/'+'trials.response_times.npy')\n",
    "\n",
    "visual_times = trials_visual_time\n",
    "# Behaviour data\n",
    "\n",
    "wheel_movement = np.load(data_path+'/'+'wheelMoves.type.npy')\n",
    "wheel_intervals = np.load(data_path+'/'+'wheelMoves.intervals.npy')\n"
   ]
  },
  {
   "cell_type": "code",
   "execution_count": 29,
   "metadata": {
    "scrolled": true
   },
   "outputs": [
    {
     "data": {
      "text/plain": [
       "array([[[ 62.80544741],\n",
       "        [ 67.78158083],\n",
       "        [ 71.3660981 ],\n",
       "        [ 76.46615324],\n",
       "        [ 79.53142229],\n",
       "        [ 84.7664911 ],\n",
       "        [ 89.71658205],\n",
       "        [ 92.1890847 ],\n",
       "        [ 94.44164958],\n",
       "        [ 99.1568136 ]],\n",
       "\n",
       "       [[ 63.44817205],\n",
       "        [ 68.34945466],\n",
       "        [ 71.94911534],\n",
       "        [ 76.87319834],\n",
       "        [ 80.29485601],\n",
       "        [ 85.56054477],\n",
       "        [ 90.31902497],\n",
       "        [ 92.82906728],\n",
       "        [ 94.86870166],\n",
       "        [ 99.83998546]],\n",
       "\n",
       "       [[ 64.95577101],\n",
       "        [ 68.49708922],\n",
       "        [ 72.08014241],\n",
       "        [ 76.99658944],\n",
       "        [ 81.79593827],\n",
       "        [ 86.14660926],\n",
       "        [ 90.63016031],\n",
       "        [ 92.9631532 ],\n",
       "        [ 95.02971311],\n",
       "        [100.02935179]],\n",
       "\n",
       "       [[ 64.98899802],\n",
       "        [ 68.53305776],\n",
       "        [ 72.11711817],\n",
       "        [ 77.03440105],\n",
       "        [ 81.82968188],\n",
       "        [ 86.18375527],\n",
       "        [ 90.66823086],\n",
       "        [ 93.00027017],\n",
       "        [ 95.06750501],\n",
       "        [100.06558926]]])"
      ]
     },
     "execution_count": 29,
     "metadata": {},
     "output_type": "execute_result"
    }
   ],
   "source": [
    "np.array([trials_visual_time[:10],trials_gocue_times[:10],trial_response_time[:10],trial_feedback_time[:10]])\n"
   ]
  },
  {
   "cell_type": "code",
   "execution_count": 80,
   "metadata": {},
   "outputs": [],
   "source": [
    "trials_gocue_times,trial_feedback_time,trial_response_time\n",
    "\n",
    "\n",
    "def sort_cells_trials(spike_time_binned, bin_size = 10):\n",
    "    # Epoch duration is defined as the period after the visual stimulus\n",
    "\n",
    "    # Sort into trials\n",
    "    spike_time_binned_trial = np.empty(len(spike_time_cells), dtype=object)\n",
    "    \n",
    "    pre_stim_spike_time_binned_trial = np.empty(len(trials_intervals), dtype=object)\n",
    "    post_stim_spike_time_binned_trial = np.empty(len(trials_intervals), dtype=object)\n",
    "    post_go_cue_spike_time_binned_trial = np.empty(len(trials_intervals), dtype=object)\n",
    "    post_feedback_post_stim_spike_time_binned_trial = np.empty(len(trials_intervals), dtype=object)\n",
    "        \n",
    "    for cell_num in np.arange(len(spike_time_cells)):\n",
    "        \n",
    "        spike_time_binned_trial[cell_num] = []\n",
    "        \n",
    "        pre_stim_spike_time_binned_trial[cell_num] = np.empty(len(trials_intervals), dtype=object)\n",
    "        post_stim_spike_time_binned_trial[cell_num] = np.empty(len(trials_intervals), dtype=object)\n",
    "        post_go_cue_spike_time_binned_trial[cell_num] = np.empty(len(trials_intervals), dtype=object)\n",
    "        post_feedback_post_stim_spike_time_binned_trial[cell_num] = np.empty(len(trials_intervals), dtype=object)\n",
    "        \n",
    "        # Entire trial duration\n",
    "        for i,trials_start_end in enumerate(trials_intervals):\n",
    "            # Sort spikes into their trial numbers. \n",
    "            spike_time_binned_trial[cell_num].append(spike_time_binned[cell_num][int(np.floor(trials_start_end[0]*(1000/bin_size))) : int(np.floor(trials_start_end[1]*(1000/bin_size)))])\n",
    "\n",
    "        # Pre-stim epoch (Visual Stim - 500ms : Visual Stim)\n",
    "        for i,trials_start_end in enumerate(trials_intervals):\n",
    "            pre_stim_spike_time_binned_trial[cell_num][i] = spike_time_binned[cell_num][(int(np.floor(trials_visual_time[i]*(1000/bin_size))-(500/bin_size))) : (int(np.floor(trials_visual_time[i]*(1000/bin_size))))]\n",
    "            \n",
    "        # Post-stim epoch (Visual Stim : Go Cue)\n",
    "        for i,trials_start_end in enumerate(trials_intervals):\n",
    "            post_stim_spike_time_binned_trial[cell_num][i] = spike_time_binned[cell_num][(int(np.floor(trials_visual_time[i]*(1000/bin_size)))) : (int(np.floor(trials_gocue_times[i]*(1000/bin_size))))]\n",
    "        \n",
    "        # Post-gocue epoch (Gocue : Reward) Very short duration\n",
    "        for i,trials_start_end in enumerate(trials_intervals):\n",
    "            post_go_cue_spike_time_binned_trial[cell_num][i] = spike_time_binned[cell_num][(int(np.floor(trials_gocue_times[i]*(1000/bin_size)))) : (int(np.floor(trial_feedback_time[i]*(1000/bin_size))))]\n",
    "        \n",
    "        # Post-reward epoch (Reward : Reward + 500ms)\n",
    "        for i,trials_start_end in enumerate(trials_intervals):\n",
    "            post_go_cue_spike_time_binned_trial[cell_num][i] = spike_time_binned[cell_num][(int(np.floor(trial_feedback_time[i]*(1000/bin_size)))) : (int(np.floor(trial_feedback_time[i]*(1000/bin_size))+(500/bin_size)))]\n",
    "        \n",
    "    # spike_time_binned_trial returns spikes that are sorted into cells and trials\n",
    "    # spike_time_binned_trial_response returns spikes that are sorted into cells and trials, and spliced accordingly to desired epoch duration post-visual stim onset\n",
    "        \n",
    "        spike_time_binned_trial[cell_num]\n",
    "        \n",
    "    return spike_time_binned_trial, pre_stim_spike_time_binned_trial, post_stim_spike_time_binned_trial, post_go_cue_spike_time_binned_trial, post_go_cue_spike_time_binned_trial\n",
    "\n",
    "# Shape of spike_time_binned_trial[cell_num][trial_num][# of bins]\n",
    "\n",
    "#spike_time_binned_trial, spike_time_binned_trial_response = sort_cells_trials(spike_time_binned,40)\n",
    "spike_time_binned_trial, pre_stim_spike_time_binned_trial, post_stim_spike_time_binned_trial, post_go_cue_spike_time_binned_trial, post_go_cue_spike_time_binned_trial = sort_cells_trials(spike_time_binned,10)"
   ]
  },
  {
   "cell_type": "code",
   "execution_count": 135,
   "metadata": {},
   "outputs": [
    {
     "name": "stdout",
     "output_type": "stream",
     "text": [
      "(522,)\n"
     ]
    },
    {
     "data": {
      "text/plain": [
       "778"
      ]
     },
     "execution_count": 135,
     "metadata": {},
     "output_type": "execute_result"
    }
   ],
   "source": [
    "(np.reshape( (clusters_annotation >= 2),(-1) ) & np.reshape( (brain_regions == 'ORB'),(-1) )).shape\n",
    "\n",
    "print(left_spike_time_response.shape)\n",
    "\n",
    "len(np.unique(spike_clusters))\n"
   ]
  },
  {
   "cell_type": "code",
   "execution_count": 19,
   "metadata": {},
   "outputs": [
    {
     "ename": "NameError",
     "evalue": "name 'spike_time_cells' is not defined",
     "output_type": "error",
     "traceback": [
      "\u001b[0;31m---------------------------------------------------------------------------\u001b[0m",
      "\u001b[0;31mNameError\u001b[0m                                 Traceback (most recent call last)",
      "\u001b[0;32m<ipython-input-19-ed7b5aac25d7>\u001b[0m in \u001b[0;36m<module>\u001b[0;34m\u001b[0m\n\u001b[1;32m      6\u001b[0m \u001b[0mgood_cells\u001b[0m\u001b[0;34m,\u001b[0m \u001b[0mbrain_regions\u001b[0m \u001b[0;34m,\u001b[0m\u001b[0mbr\u001b[0m \u001b[0;34m=\u001b[0m \u001b[0mspike_process\u001b[0m\u001b[0;34m.\u001b[0m\u001b[0mget_good_cells\u001b[0m\u001b[0;34m(\u001b[0m\u001b[0mdata_path\u001b[0m\u001b[0;34m)\u001b[0m \u001b[0;31m# Get brain regions\u001b[0m\u001b[0;34m\u001b[0m\u001b[0;34m\u001b[0m\u001b[0m\n\u001b[1;32m      7\u001b[0m \u001b[0mspike_time_binned\u001b[0m\u001b[0;34m,\u001b[0m \u001b[0mspike_time_cells\u001b[0m\u001b[0;34m,\u001b[0m \u001b[0mcell_spikes_max\u001b[0m \u001b[0;34m=\u001b[0m \u001b[0mspike_process\u001b[0m\u001b[0;34m.\u001b[0m\u001b[0mbin_spikes\u001b[0m\u001b[0;34m(\u001b[0m\u001b[0mspike_times\u001b[0m\u001b[0;34m,\u001b[0m\u001b[0;36m10\u001b[0m\u001b[0;34m)\u001b[0m\u001b[0;34m\u001b[0m\u001b[0;34m\u001b[0m\u001b[0m\n\u001b[0;32m----> 8\u001b[0;31m \u001b[0mspike_time_binned_trial\u001b[0m\u001b[0;34m,\u001b[0m \u001b[0mspike_time_binned_trial_response\u001b[0m \u001b[0;34m=\u001b[0m \u001b[0mspike_process\u001b[0m\u001b[0;34m.\u001b[0m\u001b[0msort_cells_trials\u001b[0m\u001b[0;34m(\u001b[0m\u001b[0mspike_time_binned\u001b[0m\u001b[0;34m,\u001b[0m\u001b[0;36m40\u001b[0m\u001b[0;34m,\u001b[0m\u001b[0;36m10\u001b[0m\u001b[0;34m)\u001b[0m\u001b[0;34m\u001b[0m\u001b[0;34m\u001b[0m\u001b[0m\n\u001b[0m\u001b[1;32m      9\u001b[0m \u001b[0mleft_spike_time_response\u001b[0m\u001b[0;34m,\u001b[0m \u001b[0mright_spike_time_response\u001b[0m\u001b[0;34m,\u001b[0m \u001b[0mno_response_spike_time_response\u001b[0m \u001b[0;34m=\u001b[0m \u001b[0mspike_process\u001b[0m\u001b[0;34m.\u001b[0m\u001b[0msort_cells_trial_types\u001b[0m\u001b[0;34m(\u001b[0m\u001b[0mspike_time_binned_trial_response\u001b[0m\u001b[0;34m)\u001b[0m\u001b[0;34m\u001b[0m\u001b[0;34m\u001b[0m\u001b[0m\n\u001b[1;32m     10\u001b[0m \u001b[0;34m\u001b[0m\u001b[0m\n",
      "\u001b[0;32m~/Documents/connected_lizards/ConnectedLizards_NeuroMatch2020/DataPreprocessing_XW.py\u001b[0m in \u001b[0;36msort_cells_trials\u001b[0;34m(spike_time_binned, epoch_duration, bin_size)\u001b[0m\n\u001b[1;32m    109\u001b[0m \u001b[0;34m\u001b[0m\u001b[0m\n\u001b[1;32m    110\u001b[0m     \u001b[0;31m# Sort into trials\u001b[0m\u001b[0;34m\u001b[0m\u001b[0;34m\u001b[0m\u001b[0;34m\u001b[0m\u001b[0m\n\u001b[0;32m--> 111\u001b[0;31m     \u001b[0mspike_time_binned_trial\u001b[0m \u001b[0;34m=\u001b[0m \u001b[0mnp\u001b[0m\u001b[0;34m.\u001b[0m\u001b[0mempty\u001b[0m\u001b[0;34m(\u001b[0m\u001b[0mlen\u001b[0m\u001b[0;34m(\u001b[0m\u001b[0mspike_time_binned\u001b[0m\u001b[0;34m)\u001b[0m\u001b[0;34m,\u001b[0m \u001b[0mdtype\u001b[0m\u001b[0;34m=\u001b[0m\u001b[0mobject\u001b[0m\u001b[0;34m)\u001b[0m\u001b[0;34m\u001b[0m\u001b[0;34m\u001b[0m\u001b[0m\n\u001b[0m\u001b[1;32m    112\u001b[0m     \u001b[0mspike_time_binned_trial_response\u001b[0m \u001b[0;34m=\u001b[0m \u001b[0mnp\u001b[0m\u001b[0;34m.\u001b[0m\u001b[0mempty\u001b[0m\u001b[0;34m(\u001b[0m\u001b[0mlen\u001b[0m\u001b[0;34m(\u001b[0m\u001b[0mspike_time_binned\u001b[0m\u001b[0;34m)\u001b[0m\u001b[0;34m,\u001b[0m \u001b[0mdtype\u001b[0m\u001b[0;34m=\u001b[0m\u001b[0mobject\u001b[0m\u001b[0;34m)\u001b[0m\u001b[0;34m\u001b[0m\u001b[0;34m\u001b[0m\u001b[0m\n\u001b[1;32m    113\u001b[0m     \u001b[0;32mfor\u001b[0m \u001b[0mcell_num\u001b[0m \u001b[0;32min\u001b[0m \u001b[0mnp\u001b[0m\u001b[0;34m.\u001b[0m\u001b[0marange\u001b[0m\u001b[0;34m(\u001b[0m\u001b[0mlen\u001b[0m\u001b[0;34m(\u001b[0m\u001b[0mspike_time_binned\u001b[0m\u001b[0;34m)\u001b[0m\u001b[0;34m)\u001b[0m\u001b[0;34m:\u001b[0m\u001b[0;34m\u001b[0m\u001b[0;34m\u001b[0m\u001b[0m\n",
      "\u001b[0;31mNameError\u001b[0m: name 'spike_time_cells' is not defined"
     ]
    }
   ],
   "source": [
    "dt = 1/100\n",
    "dT = 2.5\n",
    "T0 = .5\n",
    "\n",
    "# Get neural activity data\n",
    "good_cells, brain_regions ,br = spike_process.get_good_cells(data_path) # Get brain regions\n",
    "spike_time_binned, spike_time_cells, cell_spikes_max = spike_process.bin_spikes(spike_times,10)\n",
    "spike_time_binned_trial, spike_time_binned_trial_response = spike_process.sort_cells_trials(spike_time_binned,40,10)\n",
    "left_spike_time_response, right_spike_time_response, no_response_spike_time_response = spike_process.sort_cells_trial_types(spike_time_binned_trial_response)\n",
    "\n",
    "# Midbrain cells\n",
    "regional_left_spike = spike_process.sort_cells_brain_regions(left_spike_time_response, 'SCs','SCm','MRN','APN','PAG','ZI')\n",
    "regional_right_spike = spike_process.sort_cells_brain_regions(right_spike_time_response, 'SCs','SCm','MRN','APN','PAG','ZI')\n",
    "regional_no_response_spike = spike_process.sort_cells_brain_regions(no_response_spike_time_response, 'SCs','SCm','MRN','APN','PAG','ZI')\n",
    "midbrain_concat_left_spike_times = spike_process.concat_trials_2_timeseries(regional_left_spike)\n",
    "midbrain_concat_right_spike_times = spike_process.concat_trials_2_timeseries(regional_right_spike)\n",
    "midbrain_concat_no_response_spike_times = spike_process.concat_trials_2_timeseries(regional_no_response_spike)\n",
    "\n",
    "# Forebrain cells\n",
    "regional_left_spike = spike_process.sort_cells_brain_regions(left_spike_time_response, 'MOs','PL','ILA','ORB','MOp','SSp')\n",
    "regional_right_spike = spike_process.sort_cells_brain_regions(right_spike_time_response, 'MOs','PL','ILA','ORB','MOp','SSp')\n",
    "regional_no_response_spike = spike_process.sort_cells_brain_regions(no_response_spike_time_response, 'MOs','PL','ILA','ORB','MOp','SSp')\n",
    "forebrain_concat_left_spike_times = spike_process.concat_trials_2_timeseries(regional_left_spike)\n",
    "forebrain_concat_right_spike_times = spike_process.concat_trials_2_timeseries(regional_right_spike)\n",
    "forebrain_concat_no_response_spike_times = spike_process.concat_trials_2_timeseries(regional_no_response_spike)\n",
    "\n",
    "# Get behaviour data\n",
    "wheel, wheel_times = spike_process.get_wheel(data_path)\n",
    "wheel_position = spike_process.wpsth(wheel, wheel_times,visual_times-T0, dT, dt)\n",
    "left_concat_wheel_position, right_concat_wheel_position, no_response_concat_wheel_position = spike_process.concat_behaviour_2_timeseries(wheel_position, epoch_duration = 400 ,bin_size = 10)"
   ]
  },
  {
   "cell_type": "code",
   "execution_count": 15,
   "metadata": {},
   "outputs": [
    {
     "name": "stdout",
     "output_type": "stream",
     "text": [
      "778\n"
     ]
    }
   ],
   "source": [
    "print(len(spike_time_cells))\n"
   ]
  },
  {
   "cell_type": "code",
   "execution_count": 14,
   "metadata": {},
   "outputs": [
    {
     "name": "stdout",
     "output_type": "stream",
     "text": [
      "778\n"
     ]
    },
    {
     "ename": "NameError",
     "evalue": "name 'forebrain_concat_left_spike_times' is not defined",
     "output_type": "error",
     "traceback": [
      "\u001b[0;31m---------------------------------------------------------------------------\u001b[0m",
      "\u001b[0;31mNameError\u001b[0m                                 Traceback (most recent call last)",
      "\u001b[0;32m<ipython-input-14-f281e7c4c1e7>\u001b[0m in \u001b[0;36m<module>\u001b[0;34m\u001b[0m\n\u001b[1;32m      1\u001b[0m \u001b[0mprint\u001b[0m\u001b[0;34m(\u001b[0m\u001b[0mlen\u001b[0m\u001b[0;34m(\u001b[0m\u001b[0mspike_time_cells\u001b[0m\u001b[0;34m)\u001b[0m\u001b[0;34m)\u001b[0m\u001b[0;34m\u001b[0m\u001b[0;34m\u001b[0m\u001b[0m\n\u001b[0;32m----> 2\u001b[0;31m \u001b[0mprint\u001b[0m\u001b[0;34m(\u001b[0m\u001b[0mforebrain_concat_left_spike_times\u001b[0m\u001b[0;34m.\u001b[0m\u001b[0mshape\u001b[0m\u001b[0;34m)\u001b[0m\u001b[0;34m\u001b[0m\u001b[0;34m\u001b[0m\u001b[0m\n\u001b[0m\u001b[1;32m      3\u001b[0m \u001b[0mprint\u001b[0m\u001b[0;34m(\u001b[0m\u001b[0mmidbrain_concat_left_spike_times\u001b[0m\u001b[0;34m.\u001b[0m\u001b[0mshape\u001b[0m\u001b[0;34m)\u001b[0m\u001b[0;34m\u001b[0m\u001b[0;34m\u001b[0m\u001b[0m\n\u001b[1;32m      4\u001b[0m \u001b[0;34m\u001b[0m\u001b[0m\n\u001b[1;32m      5\u001b[0m \u001b[0mprint\u001b[0m\u001b[0;34m(\u001b[0m\u001b[0mdata_path\u001b[0m\u001b[0;34m)\u001b[0m\u001b[0;34m\u001b[0m\u001b[0;34m\u001b[0m\u001b[0m\n",
      "\u001b[0;31mNameError\u001b[0m: name 'forebrain_concat_left_spike_times' is not defined"
     ]
    }
   ],
   "source": [
    "\n",
    "print(forebrain_concat_left_spike_times.shape)\n",
    "print(midbrain_concat_left_spike_times.shape)\n",
    "\n",
    "print(data_path)"
   ]
  },
  {
   "cell_type": "code",
   "execution_count": 8,
   "metadata": {
    "scrolled": true
   },
   "outputs": [
    {
     "data": {
      "text/plain": [
       "<function matplotlib.pyplot.show(*args, **kw)>"
      ]
     },
     "execution_count": 8,
     "metadata": {},
     "output_type": "execute_result"
    },
    {
     "data": {
      "image/png": "[encoded data removed]",
      "text/plain": [
       "<Figure size 432x288 with 1 Axes>"
      ]
     },
     "metadata": {
      "needs_background": "light"
     },
     "output_type": "display_data"
    },
    {
     "data": {
      "image/png": "[encoded data removed]",
      "text/plain": [
       "<Figure size 432x288 with 1 Axes>"
      ]
     },
     "metadata": {
      "needs_background": "light"
     },
     "output_type": "display_data"
    }
   ],
   "source": [
    "# Perform some quick visualisation on the spike and behaviour data\n",
    "\n",
    "plt.figure(0)\n",
    "cell_num = 42\n",
    "plt.plot(midbrain_concat_left_spike_times[cell_num])\n",
    "plt.title('Spikes for 1 cell across session (10ms bin)')\n",
    "plt.show\n",
    "\n",
    "plt.figure(1)\n",
    "plt.plot(left_concat_wheel_position)\n",
    "plt.title('Wheel position across session')\n",
    "plt.show\n",
    "\n"
   ]
  },
  {
   "cell_type": "code",
   "execution_count": 6,
   "metadata": {},
   "outputs": [
    {
     "name": "stderr",
     "output_type": "stream",
     "text": [
      "/Users/xinweichia/anaconda3/lib/python3.7/site-packages/numpy/lib/function_base.py:2400: RuntimeWarning: invalid value encountered in true_divide\n",
      "  c /= stddev[:, None]\n",
      "/Users/xinweichia/anaconda3/lib/python3.7/site-packages/numpy/lib/function_base.py:2401: RuntimeWarning: invalid value encountered in true_divide\n",
      "  c /= stddev[None, :]\n",
      "/Users/xinweichia/anaconda3/lib/python3.7/site-packages/numpy/lib/histograms.py:754: RuntimeWarning: invalid value encountered in greater_equal\n",
      "  keep = (tmp_a >= first_edge)\n",
      "/Users/xinweichia/anaconda3/lib/python3.7/site-packages/numpy/lib/histograms.py:755: RuntimeWarning: invalid value encountered in less_equal\n",
      "  keep &= (tmp_a <= last_edge)\n"
     ]
    },
    {
     "data": {
      "text/plain": [
       "<function matplotlib.pyplot.show(*args, **kw)>"
      ]
     },
     "execution_count": 6,
     "metadata": {},
     "output_type": "execute_result"
    },
    {
     "data": {
      "image/png": "[encoded data removed]",
      "text/plain": [
       "<Figure size 432x288 with 1 Axes>"
      ]
     },
     "metadata": {
      "needs_background": "light"
     },
     "output_type": "display_data"
    },
    {
     "data": {
      "image/png": "[encoded data removed]",
      "text/plain": [
       "<Figure size 432x288 with 1 Axes>"
      ]
     },
     "metadata": {
      "needs_background": "light"
     },
     "output_type": "display_data"
    }
   ],
   "source": [
    "# Perform regression analysis\n",
    "\n",
    "corr_coeff = np.array([])\n",
    "for cell_num in np.arange(len(midbrain_concat_left_spike_times)):\n",
    "    corr_coeff = np.append(corr_coeff,np.corrcoef(midbrain_concat_left_spike_times[cell_num], left_concat_wheel_position)[0,1])\n",
    "\n",
    "plt.figure(0)\n",
    "plt.hist(corr_coeff,bins = 20)\n",
    "plt.title('Midbrain Correlation Coeff with Wheel')\n",
    "plt.xlim((-0.08, 0.08))\n",
    "plt.show\n",
    "\n",
    "corr_coeff = np.array([])\n",
    "for cell_num in np.arange(len(forebrain_concat_left_spike_times)):\n",
    "    corr_coeff = np.append(corr_coeff,np.corrcoef(forebrain_concat_left_spike_times[cell_num], left_concat_wheel_position)[0,1])\n",
    "\n",
    "plt.figure(1)\n",
    "plt.hist(corr_coeff,bins = 20)\n",
    "plt.title('Forebrain Correlation Coeff with Wheel')\n",
    "plt.xlim((-0.08, 0.08))\n",
    "plt.show\n",
    "\n",
    "corr_coeff = np.array([])\n",
    "for cell_num in np.arange(len(forebrain_concat_left_spike_times)):\n",
    "    corr_coeff = np.append(corr_coeff,np.corrcoef(forebrain_concat_left_spike_times[cell_num], left_concat_wheel_position)[0,1])\n",
    "\n",
    "plt.figure(1)\n",
    "plt.hist(corr_coeff,bins = 20)\n",
    "plt.title('Forebrain Correlation Coeff with Wheel')\n",
    "plt.xlim((-0.08, 0.08))\n",
    "plt.show\n",
    "\n"
   ]
  },
  {
   "cell_type": "code",
   "execution_count": 30,
   "metadata": {},
   "outputs": [
    {
     "name": "stdout",
     "output_type": "stream",
     "text": [
      "(193,)\n"
     ]
    }
   ],
   "source": [
    "print(corr_coeff)"
   ]
  }
 ],
 "metadata": {
  "kernelspec": {
   "display_name": "Python 3",
   "language": "python",
   "name": "python3"
  },
  "language_info": {
   "codemirror_mode": {
    "name": "ipython",
    "version": 3
   },
   "file_extension": ".py",
   "mimetype": "text/x-python",
   "name": "python",
   "nbconvert_exporter": "python",
   "pygments_lexer": "ipython3",
   "version": "3.7.1"
  }
 },
 "nbformat": 4,
 "nbformat_minor": 2
}
