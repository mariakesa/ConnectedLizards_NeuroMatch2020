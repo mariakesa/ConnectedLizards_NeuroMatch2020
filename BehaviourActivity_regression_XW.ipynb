{
 "cells": [
  {
   "cell_type": "code",
   "execution_count": 118,
   "metadata": {},
   "outputs": [],
   "source": [
    "# Import libraries\n",
    "import numpy as np\n",
    "import os , csv\n",
    "from os import listdir\n",
    "import matplotlib.pyplot as plt\n",
    "import pandas as pd\n",
    "from scipy.sparse import csr_matrix\n",
    "from scipy.interpolate import interp1d\n",
    "from sklearn.decomposition import TruncatedSVD\n",
    "from scipy import stats\n",
    "%matplotlib inline\n",
    "import matplotlib.pyplot as plt\n",
    "import DataPreprocessing as spike_process\n",
    "\n"
   ]
  },
  {
   "cell_type": "code",
   "execution_count": 2,
   "metadata": {},
   "outputs": [],
   "source": [
    "# Load desired data from 1 session 1 animal\n",
    "# Note that there are 340 trials in 1 session\n",
    "# (For more info https://github.com/nsteinme/steinmetz-et-al-2019/wiki/data-files)\n",
    "\n",
    "data_path = '/Users/ChiaXinWei/Documents/Connected_lizards/Steinmetz/Richards_2017-10-31'\n",
    "\n",
    "trials_intervals = np.load(data_path+'/'+'trials.intervals.npy') # in seconds\n",
    "spike_times = np.load(data_path+'/'+'spikes.times.npy') * 1000 # Unbinned spike times in ms\n",
    "trials_gocue_times = np.load(data_path+'/'+'trials.goCue_times.npy') \n",
    "trials_response_choice = np.load(data_path+'/'+'trials.response_choice.npy') # -1 left, 1, right, 0 no response\n",
    "spontaneous_intervals = np.load(data_path+'/'+'spontaneous.intervals.npy')\n",
    "trials_response_time = np.load(data_path+'/'+'trials.response_times.npy')\n",
    "spike_clusters = np.load(data_path+'/'+'spikes.clusters.npy')\n",
    "site_positions = np.load(data_path+'/'+'channels.sitePositions.npy')\n",
    "clusters_depths = np.load(data_path+'/'+'clusters.depths.npy')\n",
    "clusters_annotation = np.load(data_path+'/'+'clusters._phy_annotation.npy')\n",
    "channel_sites = np.load(data_path+'/'+'channels.site.npy')\n",
    "channels_brainlocation = pd.read_csv(data_path+'/'+'channels.brainLocation.tsv', sep='\\t')\n",
    "clusters_probes = np.load(data_path+'/'+'clusters.probes.npy')\n",
    "channels_probe = np.load(data_path+'/'+'channels.probe.npy')\n",
    "trials_visual_time = np.load(data_path+'/'+'trials.visualStim_times.npy')\n",
    "trial_feedback_time = np.load(data_path+'/'+'trials.feedback_times.npy')\n",
    "trial_feedback_type = np.load(data_path+'/'+'trials.feedbackType.npy')\n",
    "trial_response_time = np.load(data_path+'/'+'trials.response_times.npy')\n",
    "\n",
    "visual_times = trials_visual_time\n",
    "# Behaviour data\n",
    "\n",
    "wheel_movement = np.load(data_path+'/'+'wheelMoves.type.npy')\n",
    "wheel_intervals = np.load(data_path+'/'+'wheelMoves.intervals.npy')\n"
   ]
  },
  {
   "cell_type": "code",
   "execution_count": 154,
   "metadata": {
    "scrolled": false
   },
   "outputs": [],
   "source": [
    "dt = 2/100\n",
    "dT = 2.5\n",
    "T0 = .5\n",
    "bin_size = 50\n",
    "\n",
    "mid_brain_circuits=['SCs','SCm','MRN','APN','PAG','ZI']\n",
    "frontal_circuits=['MOs','PL','ILA','ORB','MOp','SSp']\n",
    "\n",
    "# Get neural activity data\n",
    "good_cells, brain_regions ,br = spike_process.get_good_cells(data_path) # Get brain regions\n",
    "spike_time_binned, spike_time_cells, cell_spikes_max = spike_process.bin_spikes(spike_times,spike_clusters,clusters_annotation,bin_size)\n",
    "#spike_time_binned_trial, spike_time_binned_trial_response = spike_process.sort_cells_trials(spike_time_binned, spike_time_cells, trials_intervals,trials_visual_time, epoch_duration = 2000,10)\n",
    "spike_time_binned_trial, pre_stim_spike_time_binned_trial, post_stim_spike_time_binned_trial, post_go_cue_spike_time_binned_trial, post_go_cue_spike_time_binned_trial = spike_process.sort_cells_behaviour_trials(spike_time_binned,spike_time_cells,trials_intervals, trials_visual_time,trials_gocue_times,trial_feedback_time, bin_size)\n",
    "left_spike_time_response, right_spike_time_response, no_response_spike_time_response = spike_process.sort_cells_trial_types(post_stim_spike_time_binned_trial,trials_intervals,spike_time_cells,trials_response_choice)\n",
    "\n",
    "# Midbrain cells\n",
    "midbrain_left_spike = spike_process.sort_cells_brain_regions(left_spike_time_response, brain_regions, clusters_annotation, mid_brain_circuits)\n",
    "midbrain_right_spike = spike_process.sort_cells_brain_regions(right_spike_time_response, brain_regions, clusters_annotation, mid_brain_circuits)\n",
    "midbrain_no_response_spike = spike_process.sort_cells_brain_regions(no_response_spike_time_response, brain_regions, clusters_annotation, mid_brain_circuits)\n",
    "midbrain_concat_left_spike_times = spike_process.concat_trials_2_timeseries(midbrain_left_spike)\n",
    "midbrain_concat_right_spike_times = spike_process.concat_trials_2_timeseries(midbrain_right_spike)\n",
    "midbrain_concat_no_response_spike_times = spike_process.concat_trials_2_timeseries(midbrain_no_response_spike)\n",
    "\n",
    "# Forebrain cells\n",
    "forebrain_left_spike = spike_process.sort_cells_brain_regions(left_spike_time_response, brain_regions, clusters_annotation, frontal_circuits)\n",
    "forebrain_right_spike = spike_process.sort_cells_brain_regions(left_spike_time_response, brain_regions, clusters_annotation, frontal_circuits)\n",
    "forebrain_no_response_spike = spike_process.sort_cells_brain_regions(left_spike_time_response, brain_regions, clusters_annotation, frontal_circuits)\n",
    "forebrain_concat_left_spike_times = spike_process.concat_trials_2_timeseries(forebrain_left_spike)\n",
    "forebrain_concat_right_spike_times = spike_process.concat_trials_2_timeseries(forebrain_right_spike)\n",
    "forebrain_concat_no_response_spike_times = spike_process.concat_trials_2_timeseries(forebrain_no_response_spike)\n",
    "\n",
    "# Get behaviour data\n",
    "wheel, wheel_times = spike_process.get_wheel(data_path)\n",
    "wheel_position = spike_process.wpsth(wheel, wheel_times,visual_times-T0, dT, dt)\n",
    "left_concat_wheel_position, right_concat_wheel_position, no_response_concat_wheel_position = spike_process.concat_behaviour_2_timeseries(wheel_position, trials_response_choice,epoch_duration = 500 ,bin_size = 10)\n",
    "\n"
   ]
  },
  {
   "cell_type": "code",
   "execution_count": 163,
   "metadata": {
    "collapsed": true
   },
   "outputs": [
    {
     "name": "stderr",
     "output_type": "stream",
     "text": [
      "/Users/ChiaXinWei/anaconda3/lib/python3.7/site-packages/ipykernel_launcher.py:21: RuntimeWarning: invalid value encountered in greater_equal\n"
     ]
    },
    {
     "name": "stdout",
     "output_type": "stream",
     "text": [
      "114\n"
     ]
    },
    {
     "data": {
      "text/plain": [
       "<function matplotlib.pyplot.show(*args, **kw)>"
      ]
     },
     "execution_count": 163,
     "metadata": {},
     "output_type": "execute_result"
    },
    {
     "data": {
      "image/png": "[encoded data removed]",
      "text/plain": [
       "<Figure size 432x288 with 1 Axes>"
      ]
     },
     "metadata": {
      "needs_background": "light"
     },
     "output_type": "display_data"
    },
    {
     "data": {
      "image/png": "[encoded data removed]",
      "text/plain": [
       "<Figure size 432x288 with 1 Axes>"
      ]
     },
     "metadata": {
      "needs_background": "light"
     },
     "output_type": "display_data"
    }
   ],
   "source": [
    "# Activity - Activity correlation between region A and B.\n",
    "\n",
    "# We can perform mean-matching first to ensure that the distribution is the same.\n",
    "# E.g. region A and B have the same number of neurons. Churchland et al., 2010\n",
    "\n",
    "mid_brain_circuits=['SCs','SCm','MRN','APN','PAG','ZI']\n",
    "frontal_circuits=['MOs','PL','ILA','ORB','MOp','SSp']\n",
    "\n",
    "\n",
    "def pairwise_corrcoeff(spike_time, input_region_a,input_region_b):\n",
    "    region_a_spikes = spike_process.concat_trials_2_timeseries(spike_process.sort_cells_brain_regions(spike_time, brain_regions, clusters_annotation, input_region_a))\n",
    "    region_b_spikes = spike_process.concat_trials_2_timeseries(spike_process.sort_cells_brain_regions(spike_time, brain_regions, clusters_annotation, input_region_b))\n",
    "    # Get cartesian product of indices\n",
    "    all_corr_coeff = np.array([])\n",
    "    cartesian_matrix = np.transpose([np.tile(np.arange(len(region_a_spikes)), len(region_b_spikes)), np.repeat(np.arange(len(region_b_spikes)), len(region_a_spikes))])\n",
    "    for i in np.arange(len(cartesian_matrix)):\n",
    "        corr_coeff = np.corrcoef( stats.zscore(region_a_spikes[cartesian_matrix[i][0]]) , stats.zscore(region_b_spikes[cartesian_matrix[i][1]]) )\n",
    "        all_corr_coeff = np.append(all_corr_coeff,corr_coeff[0,1])\n",
    "    \n",
    "    return all_corr_coeff\n",
    "\n",
    "def find_proportion(corr_coef, threshold = 1):\n",
    "    total_cells = np.sum(corr_coef >= threshold)\n",
    "    return round(total_cells/len(corr_coef),3)\n",
    "    \n",
    "\n",
    "input_region_a = ['SCs']\n",
    "input_region_b = ['SCs']\n",
    "plt.figure(0)\n",
    "corr_coef = pairwise_corrcoeff(right_spike_time_response, input_region_a,input_region_b)\n",
    "plt.hist(corr_coef,100)\n",
    "plt.xlim([-0.2,0.2])\n",
    "plt.title(input_region_a + input_region_b + [str(find_proportion(corr_coef))] )\n",
    "plt.ylabel('Frequency')\n",
    "plt.xlabel('Correlation Coefficient')\n",
    "plt.show\n",
    "\n",
    "input_region_a = ['SCs']\n",
    "input_region_b = ['MOs']\n",
    "print(np.sum(brain_regions == input_region_a))\n",
    "plt.figure(1)\n",
    "corr_coef = pairwise_corrcoeff(right_spike_time_response, input_region_a,input_region_b)\n",
    "plt.hist(corr_coef,100)\n",
    "plt.xlim([-0.2,0.2])\n",
    "plt.title(input_region_a + input_region_b +[str(find_proportion(corr_coef))] )\n",
    "plt.ylabel('Frequency')\n",
    "plt.xlabel('Correlation Coefficient')\n",
    "plt.show\n",
    "\n",
    "\n"
   ]
  },
  {
   "cell_type": "code",
   "execution_count": 12,
   "metadata": {
    "scrolled": true
   },
   "outputs": [
    {
     "data": {
      "text/plain": [
       "<function matplotlib.pyplot.show(*args, **kw)>"
      ]
     },
     "execution_count": 12,
     "metadata": {},
     "output_type": "execute_result"
    },
    {
     "data": {
      "image/png": "[encoded data removed]",
      "text/plain": [
       "<Figure size 432x288 with 1 Axes>"
      ]
     },
     "metadata": {
      "needs_background": "light"
     },
     "output_type": "display_data"
    },
    {
     "data": {
      "image/png": "[encoded data removed]",
      "text/plain": [
       "<Figure size 432x288 with 1 Axes>"
      ]
     },
     "metadata": {
      "needs_background": "light"
     },
     "output_type": "display_data"
    }
   ],
   "source": [
    "# Perform some quick visualisation on the spike and behaviour data\n",
    "\n",
    "plt.figure(0)\n",
    "cell_num = 42\n",
    "plt.plot(midbrain_concat_left_spike_times[cell_num])\n",
    "plt.title('Spikes for 1 cell across session (10ms bin)')\n",
    "plt.show\n",
    "\n",
    "plt.figure(1)\n",
    "plt.plot(left_concat_wheel_position)\n",
    "plt.title('Wheel position across session')\n",
    "plt.show\n",
    "\n"
   ]
  },
  {
   "cell_type": "code",
   "execution_count": 7,
   "metadata": {},
   "outputs": [
    {
     "ename": "ValueError",
     "evalue": "all the input array dimensions except for the concatenation axis must match exactly",
     "output_type": "error",
     "traceback": [
      "\u001b[0;31m---------------------------------------------------------------------------\u001b[0m",
      "\u001b[0;31mValueError\u001b[0m                                Traceback (most recent call last)",
      "\u001b[0;32m<ipython-input-7-9929ab6d38f1>\u001b[0m in \u001b[0;36m<module>\u001b[0;34m\u001b[0m\n\u001b[1;32m      3\u001b[0m \u001b[0mcorr_coeff\u001b[0m \u001b[0;34m=\u001b[0m \u001b[0mnp\u001b[0m\u001b[0;34m.\u001b[0m\u001b[0marray\u001b[0m\u001b[0;34m(\u001b[0m\u001b[0;34m[\u001b[0m\u001b[0;34m]\u001b[0m\u001b[0;34m)\u001b[0m\u001b[0;34m\u001b[0m\u001b[0;34m\u001b[0m\u001b[0m\n\u001b[1;32m      4\u001b[0m \u001b[0;32mfor\u001b[0m \u001b[0mcell_num\u001b[0m \u001b[0;32min\u001b[0m \u001b[0mnp\u001b[0m\u001b[0;34m.\u001b[0m\u001b[0marange\u001b[0m\u001b[0;34m(\u001b[0m\u001b[0mlen\u001b[0m\u001b[0;34m(\u001b[0m\u001b[0mmidbrain_concat_left_spike_times\u001b[0m\u001b[0;34m)\u001b[0m\u001b[0;34m)\u001b[0m\u001b[0;34m:\u001b[0m\u001b[0;34m\u001b[0m\u001b[0;34m\u001b[0m\u001b[0m\n\u001b[0;32m----> 5\u001b[0;31m     \u001b[0mcorr_coeff\u001b[0m \u001b[0;34m=\u001b[0m \u001b[0mnp\u001b[0m\u001b[0;34m.\u001b[0m\u001b[0mappend\u001b[0m\u001b[0;34m(\u001b[0m\u001b[0mcorr_coeff\u001b[0m\u001b[0;34m,\u001b[0m\u001b[0mnp\u001b[0m\u001b[0;34m.\u001b[0m\u001b[0mcorrcoef\u001b[0m\u001b[0;34m(\u001b[0m\u001b[0mmidbrain_concat_left_spike_times\u001b[0m\u001b[0;34m[\u001b[0m\u001b[0mcell_num\u001b[0m\u001b[0;34m]\u001b[0m\u001b[0;34m,\u001b[0m \u001b[0mleft_concat_wheel_position\u001b[0m\u001b[0;34m)\u001b[0m\u001b[0;34m[\u001b[0m\u001b[0;36m0\u001b[0m\u001b[0;34m,\u001b[0m\u001b[0;36m1\u001b[0m\u001b[0;34m]\u001b[0m\u001b[0;34m)\u001b[0m\u001b[0;34m\u001b[0m\u001b[0;34m\u001b[0m\u001b[0m\n\u001b[0m\u001b[1;32m      6\u001b[0m \u001b[0;34m\u001b[0m\u001b[0m\n\u001b[1;32m      7\u001b[0m \u001b[0mplt\u001b[0m\u001b[0;34m.\u001b[0m\u001b[0mfigure\u001b[0m\u001b[0;34m(\u001b[0m\u001b[0;36m0\u001b[0m\u001b[0;34m)\u001b[0m\u001b[0;34m\u001b[0m\u001b[0;34m\u001b[0m\u001b[0m\n",
      "\u001b[0;32m~/anaconda3/lib/python3.7/site-packages/numpy/lib/function_base.py\u001b[0m in \u001b[0;36mcorrcoef\u001b[0;34m(x, y, rowvar, bias, ddof)\u001b[0m\n\u001b[1;32m   2520\u001b[0m         warnings.warn('bias and ddof have no effect and are deprecated',\n\u001b[1;32m   2521\u001b[0m                       DeprecationWarning, stacklevel=2)\n\u001b[0;32m-> 2522\u001b[0;31m     \u001b[0mc\u001b[0m \u001b[0;34m=\u001b[0m \u001b[0mcov\u001b[0m\u001b[0;34m(\u001b[0m\u001b[0mx\u001b[0m\u001b[0;34m,\u001b[0m \u001b[0my\u001b[0m\u001b[0;34m,\u001b[0m \u001b[0mrowvar\u001b[0m\u001b[0;34m)\u001b[0m\u001b[0;34m\u001b[0m\u001b[0;34m\u001b[0m\u001b[0m\n\u001b[0m\u001b[1;32m   2523\u001b[0m     \u001b[0;32mtry\u001b[0m\u001b[0;34m:\u001b[0m\u001b[0;34m\u001b[0m\u001b[0;34m\u001b[0m\u001b[0m\n\u001b[1;32m   2524\u001b[0m         \u001b[0md\u001b[0m \u001b[0;34m=\u001b[0m \u001b[0mdiag\u001b[0m\u001b[0;34m(\u001b[0m\u001b[0mc\u001b[0m\u001b[0;34m)\u001b[0m\u001b[0;34m\u001b[0m\u001b[0;34m\u001b[0m\u001b[0m\n",
      "\u001b[0;32m~/anaconda3/lib/python3.7/site-packages/numpy/lib/function_base.py\u001b[0m in \u001b[0;36mcov\u001b[0;34m(m, y, rowvar, bias, ddof, fweights, aweights)\u001b[0m\n\u001b[1;32m   2384\u001b[0m         \u001b[0;32mif\u001b[0m \u001b[0;32mnot\u001b[0m \u001b[0mrowvar\u001b[0m \u001b[0;32mand\u001b[0m \u001b[0my\u001b[0m\u001b[0;34m.\u001b[0m\u001b[0mshape\u001b[0m\u001b[0;34m[\u001b[0m\u001b[0;36m0\u001b[0m\u001b[0;34m]\u001b[0m \u001b[0;34m!=\u001b[0m \u001b[0;36m1\u001b[0m\u001b[0;34m:\u001b[0m\u001b[0;34m\u001b[0m\u001b[0;34m\u001b[0m\u001b[0m\n\u001b[1;32m   2385\u001b[0m             \u001b[0my\u001b[0m \u001b[0;34m=\u001b[0m \u001b[0my\u001b[0m\u001b[0;34m.\u001b[0m\u001b[0mT\u001b[0m\u001b[0;34m\u001b[0m\u001b[0;34m\u001b[0m\u001b[0m\n\u001b[0;32m-> 2386\u001b[0;31m         \u001b[0mX\u001b[0m \u001b[0;34m=\u001b[0m \u001b[0mnp\u001b[0m\u001b[0;34m.\u001b[0m\u001b[0mconcatenate\u001b[0m\u001b[0;34m(\u001b[0m\u001b[0;34m(\u001b[0m\u001b[0mX\u001b[0m\u001b[0;34m,\u001b[0m \u001b[0my\u001b[0m\u001b[0;34m)\u001b[0m\u001b[0;34m,\u001b[0m \u001b[0maxis\u001b[0m\u001b[0;34m=\u001b[0m\u001b[0;36m0\u001b[0m\u001b[0;34m)\u001b[0m\u001b[0;34m\u001b[0m\u001b[0;34m\u001b[0m\u001b[0m\n\u001b[0m\u001b[1;32m   2387\u001b[0m \u001b[0;34m\u001b[0m\u001b[0m\n\u001b[1;32m   2388\u001b[0m     \u001b[0;32mif\u001b[0m \u001b[0mddof\u001b[0m \u001b[0;32mis\u001b[0m \u001b[0;32mNone\u001b[0m\u001b[0;34m:\u001b[0m\u001b[0;34m\u001b[0m\u001b[0;34m\u001b[0m\u001b[0m\n",
      "\u001b[0;31mValueError\u001b[0m: all the input array dimensions except for the concatenation axis must match exactly"
     ]
    }
   ],
   "source": [
    "# Perform regression analysis\n",
    "\n",
    "corr_coeff = np.array([])\n",
    "for cell_num in np.arange(len(midbrain_concat_left_spike_times)):\n",
    "    corr_coeff = np.append(corr_coeff,np.corrcoef(midbrain_concat_left_spike_times[cell_num], left_concat_wheel_position)[0,1])\n",
    "\n",
    "plt.figure(0)\n",
    "plt.hist(corr_coeff,bins = 20)\n",
    "plt.title('Midbrain Correlation Coeff with Wheel')\n",
    "plt.xlim((-0.08, 0.08))\n",
    "plt.show\n",
    "\n",
    "corr_coeff = np.array([])\n",
    "for cell_num in np.arange(len(forebrain_concat_left_spike_times)):\n",
    "    corr_coeff = np.append(corr_coeff,np.corrcoef(forebrain_concat_left_spike_times[cell_num], left_concat_wheel_position)[0,1])\n",
    "\n",
    "plt.figure(1)\n",
    "plt.hist(corr_coeff,bins = 20)\n",
    "plt.title('Forebrain Correlation Coeff with Wheel')\n",
    "plt.xlim((-0.08, 0.08))\n",
    "plt.show\n",
    "\n",
    "corr_coeff = np.array([])\n",
    "for cell_num in np.arange(len(forebrain_concat_left_spike_times)):\n",
    "    corr_coeff = np.append(corr_coeff,np.corrcoef(forebrain_concat_left_spike_times[cell_num], left_concat_wheel_position)[0,1])\n",
    "\n",
    "plt.figure(1)\n",
    "plt.hist(corr_coeff,bins = 20)\n",
    "plt.title('Forebrain Correlation Coeff with Wheel')\n",
    "plt.xlim((-0.08, 0.08))\n",
    "plt.show\n",
    "\n"
   ]
  }
 ],
 "metadata": {
  "kernelspec": {
   "display_name": "Python 3",
   "language": "python",
   "name": "python3"
  },
  "language_info": {
   "codemirror_mode": {
    "name": "ipython",
    "version": 3
   },
   "file_extension": ".py",
   "mimetype": "text/x-python",
   "name": "python",
   "nbconvert_exporter": "python",
   "pygments_lexer": "ipython3",
   "version": "3.7.3"
  }
 },
 "nbformat": 4,
 "nbformat_minor": 2
}
