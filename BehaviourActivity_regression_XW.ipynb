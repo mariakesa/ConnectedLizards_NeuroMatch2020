{
 "cells": [
  {
   "cell_type": "code",
   "execution_count": 22,
   "metadata": {},
   "outputs": [],
   "source": [
    "# Import libraries\n",
    "import numpy as np\n",
    "import os , csv\n",
    "from os import listdir\n",
    "import matplotlib.pyplot as plt\n",
    "import pandas as pd\n",
    "from scipy.sparse import csr_matrix\n",
    "from scipy.interpolate import interp1d\n",
    "from sklearn.decomposition import TruncatedSVD\n",
    "%matplotlib inline\n",
    "import matplotlib.pyplot as plt\n",
    "import DataPreprocessing as spike_process\n",
    "\n"
   ]
  },
  {
   "cell_type": "code",
   "execution_count": 23,
   "metadata": {},
   "outputs": [],
   "source": [
    "# Load desired data from 1 session 1 animal\n",
    "# Note that there are 340 trials in 1 session\n",
    "# (For more info https://github.com/nsteinme/steinmetz-et-al-2019/wiki/data-files)\n",
    "\n",
    "data_path = '/Users/xinweichia/Documents/connected_lizards/Steinmetz_dataset/Richards_2017-10-31'\n",
    "\n",
    "trials_intervals = np.load(data_path+'/'+'trials.intervals.npy') # in seconds\n",
    "spike_times = np.load(data_path+'/'+'spikes.times.npy') * 1000 # Unbinned spike times in ms\n",
    "trials_gocue_times = np.load(data_path+'/'+'trials.goCue_times.npy') \n",
    "trials_response_choice = np.load(data_path+'/'+'trials.response_choice.npy') # -1 left, 1, right, 0 no response\n",
    "spontaneous_intervals = np.load(data_path+'/'+'spontaneous.intervals.npy')\n",
    "trials_response_time = np.load(data_path+'/'+'trials.response_times.npy')\n",
    "spike_clusters = np.load(data_path+'/'+'spikes.clusters.npy')\n",
    "site_positions = np.load(data_path+'/'+'channels.sitePositions.npy')\n",
    "clusters_depths = np.load(data_path+'/'+'clusters.depths.npy')\n",
    "clusters_annotation = np.load(data_path+'/'+'clusters._phy_annotation.npy')\n",
    "channel_sites = np.load(data_path+'/'+'channels.site.npy')\n",
    "channels_brainlocation = pd.read_csv(data_path+'/'+'channels.brainLocation.tsv', sep='\\t')\n",
    "clusters_probes = np.load(data_path+'/'+'clusters.probes.npy')\n",
    "channels_probe = np.load(data_path+'/'+'channels.probe.npy')\n",
    "trials_visual_time = np.load(data_path+'/'+'trials.visualStim_times.npy')\n",
    "trial_feedback_time = np.load(data_path+'/'+'trials.feedback_times.npy')\n",
    "trial_feedback_type = np.load(data_path+'/'+'trials.feedbackType.npy')\n",
    "trial_response_time = np.load(data_path+'/'+'trials.response_times.npy')\n",
    "\n",
    "visual_times = trials_visual_time\n",
    "# Behaviour data\n",
    "\n",
    "wheel_movement = np.load(data_path+'/'+'wheelMoves.type.npy')\n",
    "wheel_intervals = np.load(data_path+'/'+'wheelMoves.intervals.npy')\n"
   ]
  },
  {
   "cell_type": "code",
   "execution_count": 24,
   "metadata": {
    "scrolled": false
   },
   "outputs": [
    {
     "ename": "TypeError",
     "evalue": "sort_cells_behaviour_trials() takes from 1 to 2 positional arguments but 3 were given",
     "output_type": "error",
     "traceback": [
      "\u001b[0;31m---------------------------------------------------------------------------\u001b[0m",
      "\u001b[0;31mTypeError\u001b[0m                                 Traceback (most recent call last)",
      "\u001b[0;32m<ipython-input-24-20c1a8356237>\u001b[0m in \u001b[0;36m<module>\u001b[0;34m\u001b[0m\n\u001b[1;32m      7\u001b[0m \u001b[0mspike_time_binned\u001b[0m\u001b[0;34m,\u001b[0m \u001b[0mspike_time_cells\u001b[0m\u001b[0;34m,\u001b[0m \u001b[0mcell_spikes_max\u001b[0m \u001b[0;34m=\u001b[0m \u001b[0mspike_process\u001b[0m\u001b[0;34m.\u001b[0m\u001b[0mbin_spikes\u001b[0m\u001b[0;34m(\u001b[0m\u001b[0mspike_times\u001b[0m\u001b[0;34m,\u001b[0m\u001b[0mspike_clusters\u001b[0m\u001b[0;34m,\u001b[0m\u001b[0mclusters_annotation\u001b[0m\u001b[0;34m,\u001b[0m\u001b[0;36m10\u001b[0m\u001b[0;34m)\u001b[0m\u001b[0;34m\u001b[0m\u001b[0;34m\u001b[0m\u001b[0m\n\u001b[1;32m      8\u001b[0m \u001b[0;31m#spike_time_binned_trial, spike_time_binned_trial_response = spike_process.sort_cells_trials(spike_time_binned, spike_time_cells, trials_intervals,trials_visual_time, epoch_duration = 2000,10)\u001b[0m\u001b[0;34m\u001b[0m\u001b[0;34m\u001b[0m\u001b[0;34m\u001b[0m\u001b[0m\n\u001b[0;32m----> 9\u001b[0;31m \u001b[0mspike_time_binned_trial\u001b[0m\u001b[0;34m,\u001b[0m \u001b[0mpre_stim_spike_time_binned_trial\u001b[0m\u001b[0;34m,\u001b[0m \u001b[0mpost_stim_spike_time_binned_trial\u001b[0m\u001b[0;34m,\u001b[0m \u001b[0mpost_go_cue_spike_time_binned_trial\u001b[0m\u001b[0;34m,\u001b[0m \u001b[0mpost_go_cue_spike_time_binned_trial\u001b[0m \u001b[0;34m=\u001b[0m \u001b[0mspike_process\u001b[0m\u001b[0;34m.\u001b[0m\u001b[0msort_cells_behaviour_trials\u001b[0m\u001b[0;34m(\u001b[0m\u001b[0mspike_time_binned\u001b[0m\u001b[0;34m,\u001b[0m\u001b[0mspike_time_cells\u001b[0m\u001b[0;34m,\u001b[0m\u001b[0;36m10\u001b[0m\u001b[0;34m)\u001b[0m\u001b[0;34m\u001b[0m\u001b[0;34m\u001b[0m\u001b[0m\n\u001b[0m\u001b[1;32m     10\u001b[0m \u001b[0mleft_spike_time_response\u001b[0m\u001b[0;34m,\u001b[0m \u001b[0mright_spike_time_response\u001b[0m\u001b[0;34m,\u001b[0m \u001b[0mno_response_spike_time_response\u001b[0m \u001b[0;34m=\u001b[0m \u001b[0mspike_process\u001b[0m\u001b[0;34m.\u001b[0m\u001b[0msort_cells_trial_types\u001b[0m\u001b[0;34m(\u001b[0m\u001b[0mpost_stim_spike_time_binned_trial\u001b[0m\u001b[0;34m,\u001b[0m\u001b[0mtrials_intervals\u001b[0m\u001b[0;34m,\u001b[0m\u001b[0mspike_time_cells\u001b[0m\u001b[0;34m,\u001b[0m\u001b[0mtrials_response_choice\u001b[0m\u001b[0;34m)\u001b[0m\u001b[0;34m\u001b[0m\u001b[0;34m\u001b[0m\u001b[0m\n\u001b[1;32m     11\u001b[0m \u001b[0;34m\u001b[0m\u001b[0m\n",
      "\u001b[0;31mTypeError\u001b[0m: sort_cells_behaviour_trials() takes from 1 to 2 positional arguments but 3 were given"
     ]
    }
   ],
   "source": [
    "dt = 1/100\n",
    "dT = 2.5\n",
    "T0 = .5\n",
    "\n",
    "# Get neural activity data\n",
    "good_cells, brain_regions ,br = spike_process.get_good_cells(data_path) # Get brain regions\n",
    "spike_time_binned, spike_time_cells, cell_spikes_max = spike_process.bin_spikes(spike_times,spike_clusters,clusters_annotation,10)\n",
    "#spike_time_binned_trial, spike_time_binned_trial_response = spike_process.sort_cells_trials(spike_time_binned, spike_time_cells, trials_intervals,trials_visual_time, epoch_duration = 2000,10)\n",
    "spike_time_binned_trial, pre_stim_spike_time_binned_trial, post_stim_spike_time_binned_trial, post_go_cue_spike_time_binned_trial, post_go_cue_spike_time_binned_trial = spike_process.sort_cells_behaviour_trials(spike_time_binned,spike_time_cells,10)\n",
    "left_spike_time_response, right_spike_time_response, no_response_spike_time_response = spike_process.sort_cells_trial_types(post_stim_spike_time_binned_trial,trials_intervals,spike_time_cells,trials_response_choice)\n",
    "\n",
    "# Midbrain cells\n",
    "midbrain_left_spike = spike_process.sort_cells_brain_regions(left_spike_time_response, 'SCs','SCm','MRN','APN','PAG','ZI',brain_regions,clusters_annotation)\n",
    "midbrain_right_spike = spike_process.sort_cells_brain_regions(right_spike_time_response, 'SCs','SCm','MRN','APN','PAG','ZI',brain_regions,clusters_annotation)\n",
    "midbrain_no_response_spike = spike_process.sort_cells_brain_regions(no_response_spike_time_response, 'SCs','SCm','MRN','APN','PAG','ZI',brain_regions,clusters_annotation)\n",
    "midbrain_concat_left_spike_times = spike_process.concat_trials_2_timeseries(midbrain_left_spike)\n",
    "midbrain_concat_right_spike_times = spike_process.concat_trials_2_timeseries(midbrain_right_spike)\n",
    "midbrain_concat_no_response_spike_times = spike_process.concat_trials_2_timeseries(midbrain_no_response_spike)\n",
    "\n",
    "# Forebrain cells\n",
    "forebrain_left_spike = spike_process.sort_cells_brain_regions(left_spike_time_response, 'MOs','PL','ILA','ORB','MOp','SSp',brain_regions,clusters_annotation)\n",
    "forebrain_right_spike = spike_process.sort_cells_brain_regions(right_spike_time_response, 'MOs','PL','ILA','ORB','MOp','SSp',brain_regions,clusters_annotation)\n",
    "forebrain_no_response_spike = spike_process.sort_cells_brain_regions(no_response_spike_time_response, 'MOs','PL','ILA','ORB','MOp','SSp',brain_regions,clusters_annotation)\n",
    "forebrain_concat_left_spike_times = spike_process.concat_trials_2_timeseries(forebrain_left_spike)\n",
    "forebrain_concat_right_spike_times = spike_process.concat_trials_2_timeseries(forebrain_right_spike)\n",
    "forebrain_concat_no_response_spike_times = spike_process.concat_trials_2_timeseries(forebrain_no_response_spike)\n",
    "\n",
    "# Get behaviour data\n",
    "wheel, wheel_times = spike_process.get_wheel(data_path)\n",
    "wheel_position = spike_process.wpsth(wheel, wheel_times,visual_times-T0, dT, dt)\n",
    "left_concat_wheel_position, right_concat_wheel_position, no_response_concat_wheel_position = spike_process.concat_behaviour_2_timeseries(wheel_position, epoch_duration = 400 ,bin_size = 10)\n",
    "\n"
   ]
  },
  {
   "cell_type": "code",
   "execution_count": null,
   "metadata": {},
   "outputs": [],
   "source": [
    "print(forebrain_concat_left_spike_times.shape)\n",
    "print(midbrain_left_spike.shape)"
   ]
  },
  {
   "cell_type": "code",
   "execution_count": null,
   "metadata": {},
   "outputs": [],
   "source": [
    "good_cells, brain_regions ,br = spike_process.get_good_cells(data_path) # Get brain regions\n",
    "valid_brain_region_boo = (np.reshape( (clusters_annotation >= 2),(-1) ) & np.reshape( (brain_regions == 'SCm'),(-1) ))\n",
    "\n",
    "valid_brain_region_boo.shape"
   ]
  },
  {
   "cell_type": "code",
   "execution_count": null,
   "metadata": {},
   "outputs": [],
   "source": [
    "\n",
    "good_cells, brain_regions ,br = spike_process.get_good_cells(data_path) # Get brain regions\n",
    "def sort_cells_brain_regions(spike_time_response, *input_region):\n",
    "    \n",
    "    regional_spike_time_response = np.empty(len(input_region), dtype=object)\n",
    "    for i,region in enumerate(input_region):\n",
    "        # Get brain regions that correponds to the desired region\n",
    "        valid_brain_region_boo = (np.reshape( (clusters_annotation >= 2),(-1) ) & np.reshape( (brain_regions == region),(-1) ))\n",
    "        # Index the spike time to get spikes from desired regions\n",
    "        regional_spike_time_response[i] = spike_time_response[valid_brain_region_boo]\n",
    "    \n",
    "    # Merge spikes across all regions\n",
    "    merged_region_spikes = []\n",
    "    for i in np.arange(len(regional_spike_time_response)):\n",
    "        merged_region_spikes = np.append(merged_region_spikes, regional_spike_time_response[i])\n",
    "    \n",
    "    # Return spike time sorted into regions and merged across all regions\n",
    "    # Indexing: regional_spike_times[cell_num][trial_num][# of bins]\n",
    "    return merged_region_spikes\n",
    "\n",
    "mid_brain_circuits=['SCs','SCm','MRN','APN','PAG','ZI']\n",
    "frontal_circuits=['MOs','PL','ILA','ORB','MOp','SSp']\n",
    "\n"
   ]
  },
  {
   "cell_type": "code",
   "execution_count": null,
   "metadata": {},
   "outputs": [],
   "source": [
    "print(len(spike_time_cells))\n",
    "print(len(brain_regions))\n"
   ]
  },
  {
   "cell_type": "code",
   "execution_count": null,
   "metadata": {},
   "outputs": [],
   "source": [
    "\n",
    "print(forebrain_concat_left_spike_times.shape)\n",
    "print(midbrain_concat_left_spike_times.shape)\n",
    "\n",
    "print(data_path)"
   ]
  },
  {
   "cell_type": "code",
   "execution_count": null,
   "metadata": {
    "scrolled": true
   },
   "outputs": [],
   "source": [
    "# Perform some quick visualisation on the spike and behaviour data\n",
    "\n",
    "plt.figure(0)\n",
    "cell_num = 42\n",
    "plt.plot(midbrain_concat_left_spike_times[cell_num])\n",
    "plt.title('Spikes for 1 cell across session (10ms bin)')\n",
    "plt.show\n",
    "\n",
    "plt.figure(1)\n",
    "plt.plot(left_concat_wheel_position)\n",
    "plt.title('Wheel position across session')\n",
    "plt.show\n",
    "\n"
   ]
  },
  {
   "cell_type": "code",
   "execution_count": null,
   "metadata": {},
   "outputs": [],
   "source": [
    "# Perform regression analysis\n",
    "\n",
    "corr_coeff = np.array([])\n",
    "for cell_num in np.arange(len(midbrain_concat_left_spike_times)):\n",
    "    corr_coeff = np.append(corr_coeff,np.corrcoef(midbrain_concat_left_spike_times[cell_num], left_concat_wheel_position)[0,1])\n",
    "\n",
    "plt.figure(0)\n",
    "plt.hist(corr_coeff,bins = 20)\n",
    "plt.title('Midbrain Correlation Coeff with Wheel')\n",
    "plt.xlim((-0.08, 0.08))\n",
    "plt.show\n",
    "\n",
    "corr_coeff = np.array([])\n",
    "for cell_num in np.arange(len(forebrain_concat_left_spike_times)):\n",
    "    corr_coeff = np.append(corr_coeff,np.corrcoef(forebrain_concat_left_spike_times[cell_num], left_concat_wheel_position)[0,1])\n",
    "\n",
    "plt.figure(1)\n",
    "plt.hist(corr_coeff,bins = 20)\n",
    "plt.title('Forebrain Correlation Coeff with Wheel')\n",
    "plt.xlim((-0.08, 0.08))\n",
    "plt.show\n",
    "\n",
    "corr_coeff = np.array([])\n",
    "for cell_num in np.arange(len(forebrain_concat_left_spike_times)):\n",
    "    corr_coeff = np.append(corr_coeff,np.corrcoef(forebrain_concat_left_spike_times[cell_num], left_concat_wheel_position)[0,1])\n",
    "\n",
    "plt.figure(1)\n",
    "plt.hist(corr_coeff,bins = 20)\n",
    "plt.title('Forebrain Correlation Coeff with Wheel')\n",
    "plt.xlim((-0.08, 0.08))\n",
    "plt.show\n",
    "\n"
   ]
  },
  {
   "cell_type": "code",
   "execution_count": null,
   "metadata": {},
   "outputs": [],
   "source": [
    "print(corr_coeff)"
   ]
  }
 ],
 "metadata": {
  "kernelspec": {
   "display_name": "Python 3",
   "language": "python",
   "name": "python3"
  },
  "language_info": {
   "codemirror_mode": {
    "name": "ipython",
    "version": 3
   },
   "file_extension": ".py",
   "mimetype": "text/x-python",
   "name": "python",
   "nbconvert_exporter": "python",
   "pygments_lexer": "ipython3",
   "version": "3.7.1"
  }
 },
 "nbformat": 4,
 "nbformat_minor": 2
}
