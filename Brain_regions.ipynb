{
 "cells": [
  {
   "cell_type": "code",
   "execution_count": 1,
   "metadata": {},
   "outputs": [],
   "source": [
    "# Import libraries\n",
    "import numpy as np\n",
    "import os , csv\n",
    "from os import listdir\n",
    "import matplotlib.pyplot as plt\n",
    "import pandas as pd\n",
    "from scipy.sparse import csr_matrix\n",
    "from scipy.interpolate import interp1d\n",
    "from sklearn.decomposition import TruncatedSVD\n",
    "%matplotlib inline\n",
    "import matplotlib.pyplot as plt\n",
    "import DataPreprocessing_XW as spike_process\n",
    "\n"
   ]
  },
  {
   "cell_type": "code",
   "execution_count": 2,
   "metadata": {},
   "outputs": [
    {
     "name": "stdout",
     "output_type": "stream",
     "text": [
      "['ORB' 'MOs' 'ORB' 'ORB' 'MOs' 'MOs' 'ORB' 'MOs' 'ORB' 'ORB' 'MOs' 'MOs'\n",
      " 'ORB' 'ORB' 'ORB' 'ORB' 'ORB' 'ORB' 'ORB' 'ORB' 'OLF' 'ORB' 'OLF' 'ORB'\n",
      " 'MOs' 'ORB' 'ORB' 'ORB' 'ORB' 'ORB' 'ORB' 'ORB' 'ORB' 'ORB' 'MOs' 'ORB'\n",
      " 'ORB' 'ORB' 'MOs' 'MOs' 'ORB' 'ORB' 'MOs' 'ORB' 'ORB' 'ORB' 'ORB' 'ORB'\n",
      " 'MOs' 'ORB' 'MOs' 'ORB' 'ORB' 'ORB' 'ORB' 'ORB' 'ORB' 'ORB' 'MOs' 'ORB'\n",
      " 'ORB' 'ORB' 'MOs' 'ORB' 'ORB' 'ORB' 'ORB' 'ORB' 'ORB' 'ORB' 'ORB' 'ORB'\n",
      " 'ORB' 'ORB' 'ORB' 'MOs' 'MOs' 'MOs' 'ORB' 'MOs' 'ORB' 'ORB' 'MOs' 'MOs'\n",
      " 'OLF' 'ORB' 'MOs' 'ORB' 'ORB' 'ORB' 'MOs' 'ORB' 'ORB' 'MOs' 'MOs' 'ORB'\n",
      " 'ORB' 'OLF' 'ORB' 'ORB' 'ORB' 'ORB' 'MOs' 'ORB' 'ORB' 'OLF' 'MOs' 'MOs'\n",
      " 'MOs' 'OLF' 'MOs' 'ORB' 'MOs' 'ORB' 'MOs' 'ORB' 'ORB' 'ORB' 'MOs' 'ORB'\n",
      " 'MOs' 'MOs' 'ORB' 'MOs' 'ORB' 'ORB' 'ORB' 'ORB' 'OLF' 'ORB' 'ORB' 'OLF'\n",
      " 'ORB' 'ORB' 'ORB' 'ORB' 'MOs' 'ORB' 'ORB' 'ORB' 'MOs' 'ORB' 'ORB' 'ORB'\n",
      " 'ORB' 'ORB' 'ORB' 'ORB' 'ORB' 'ORB' 'ORB' 'ORB' 'ORB' 'MOs' 'MOs' 'ORB'\n",
      " 'ORB' 'ORB' 'MOs' 'MOs' 'MOs' 'ORB' 'MOs' 'ORB' 'MOs' 'ORB' 'ORB' 'MOs'\n",
      " 'MOs' 'ORB' 'ORB' 'MOs' 'ORB' 'ORB' 'MOs' 'ORB' 'ORB' 'MOs' 'ORB' 'MOs'\n",
      " 'ORB' 'ORB' 'ORB' 'ORB' 'ORB' 'MOs' 'ORB' 'ORB' 'MOs' 'ORB' 'ORB' 'ORB'\n",
      " 'ORB' 'MOs' 'MOs' 'ORB' 'MOs' 'ORB' 'MOs' 'ORB' 'ORB' 'MOs' 'ORB' 'ORB'\n",
      " 'MOs' 'MOs' 'OLF' 'MOs' 'ORB' 'ORB' 'ORB' 'ORB' 'MOs' 'MOs' 'MOs' 'MOs'\n",
      " 'ORB' 'ORB' 'ORB' 'ORB' 'MOs' 'MOs' 'ORB' 'ORB' 'ORB' 'ORB' 'ORB' 'ORB'\n",
      " 'MOs' 'MOs' 'ORB' 'MOs' 'MOs' 'ORB' 'MOs' 'MOs' 'MOs' 'MOs' 'ORB' 'MOs'\n",
      " 'ORB' 'ORB' 'MOs' 'ORB' 'MOs' 'MOs' 'ORB' 'MOs' 'ORB' 'ORB' 'ORB' 'ORB'\n",
      " 'ORB' 'ORB' 'ORB' 'ORB' 'ORB' 'ORB' 'MOs' 'MOs' 'ORB' 'ORB' 'ORB' 'ORB'\n",
      " 'ORB' 'ORB' 'ORB' 'ORB' 'MOs' 'ORB' 'ORB' 'MOs' 'MOs' 'MOs' 'ORB' 'MOs'\n",
      " 'MOs' 'ORB' 'ORB' 'ORB' 'MOs' 'ORB' 'MOs' 'MOs' 'ORB' 'ORB' 'MOs' 'MOs'\n",
      " 'MOs' 'MOs' 'MOs' 'ORB' 'ORB' 'MOs' 'MOs' 'ORB' 'MOs' 'MOs' 'MOs' 'ORB'\n",
      " 'ORB' 'MOs' 'MOs' 'MOs' 'ORB' 'ORB' 'MOs' 'ORB' 'ORB' 'ORB' 'ORB' 'MOs'\n",
      " 'ORB' 'ORB' 'ORB' 'MOs' 'OLF' 'ORB' 'ORB' 'ORB' 'MOs' 'ORB' 'MOs' 'MOs'\n",
      " 'ORB' 'ORB' 'ORB' 'ORB' 'MOs' 'ORB' 'MOs' 'MOs' 'ORB' 'ORB' 'MOs' 'ORB'\n",
      " 'ORB' 'MOs' 'MOs' 'ORB' 'MOs' 'MOs' 'MOs' 'MOs' 'MOs' 'MOs' 'ORB' 'ORB'\n",
      " 'ORB' 'OLF' 'OLF' 'OLF' 'RSP' 'RSP' 'RSP' 'SCs' 'RSP' 'MRN' 'SCs' 'RSP'\n",
      " 'SCm' 'RSP' 'MRN' 'root' 'SCm' 'MRN' 'SCm' 'RSP' 'SCs' 'RSP' 'RSP' 'SCs'\n",
      " 'PAG' 'SCm' 'RSP' 'RSP' 'RSP' 'PAG' 'RSP' 'RSP' 'SCs' 'RSP' 'RSP' 'SCm'\n",
      " 'root' 'SCm' 'SCs' 'SCm' 'RSP' 'SCs' 'SCs' 'SCs' 'SCs' 'MRN' 'PAG' 'SCs'\n",
      " 'RSP' 'SCm' 'root' 'RSP' 'SCs' 'RSP' 'MRN' 'SCs' 'SCm' 'PAG' 'SCs' 'RSP'\n",
      " 'SCs' 'RSP' 'SCs' 'PAG' 'MRN' 'MRN' 'root' 'PAG' 'SCm' 'SCs' 'SCs' 'SCs'\n",
      " 'SCs' 'PAG' 'SCs' 'SCm' 'MRN' 'SCs' 'SCm' 'PAG' 'root' 'SCm' 'RSP' 'MRN'\n",
      " 'PAG' 'RSP' 'SCs' 'SCs' 'PAG' 'PAG' 'SCs' 'root' 'SCm' 'SCs' 'SCs' 'SCs'\n",
      " 'root' 'SCs' 'RSP' 'RSP' 'MRN' 'SCm' 'RSP' 'root' 'SCs' 'RSP' 'SCs' 'RSP'\n",
      " 'RSP' 'RSP' 'PAG' 'SCs' 'PAG' 'RSP' 'RSP' 'SCs' 'SCs' 'SCs' 'MRN' 'SCs'\n",
      " 'RSP' 'root' 'SCm' 'SCs' 'RSP' 'RSP' 'PAG' 'SCs' 'SCs' 'SCs' 'PAG' 'SCm'\n",
      " 'PAG' 'RSP' 'MRN' 'SCs' 'PAG' 'PAG' 'SCm' 'SCm' 'SCs' 'SCm' 'PAG' 'SCm'\n",
      " 'SCm' 'MRN' 'SCs' 'PAG' 'RSP' 'SCm' 'SCs' 'RSP' 'SCs' 'SCm' 'RSP' 'SCs'\n",
      " 'MRN' 'RSP' 'RSP' 'SCs' 'PAG' 'SCs' 'PAG' 'SCm' 'PAG' 'RSP' 'RSP' 'SCs'\n",
      " 'RSP' 'RSP' 'PAG' 'PAG' 'SCs' 'RSP' 'RSP' 'SCm' 'root' 'PAG' 'SCs' 'SCm'\n",
      " 'SCm' 'SCs' 'SCs' 'MRN' 'PAG' 'RSP' 'PAG' 'SCs' 'PAG' 'SCm' 'SCs' 'SCs'\n",
      " 'RSP' 'SCs' 'RSP' 'SCs' 'RSP' 'SCs' 'SCs' 'root' 'SCs' 'SCs' 'SCm' 'SCs'\n",
      " 'root' 'MRN' 'SCs' 'SCs' 'PAG' 'RSP' 'RSP' 'MRN' 'MRN' 'MRN' 'PAG' 'RSP'\n",
      " 'SCm' 'RSP' 'RSP' 'SCs' 'PAG' 'RSP' 'RSP' 'RSP' 'SCs' 'SCm' 'MRN' 'PAG'\n",
      " 'RSP' 'RSP' 'RSP' 'SCm' 'SCm' 'SCm' 'RSP' 'PAG' 'root' 'SCs' 'RSP' 'SCm'\n",
      " 'MRN' 'SCs' 'RSP' 'PAG' 'SCm' 'RSP' 'RSP' 'RSP' 'SCs' 'SCs' 'SCm' 'PAG'\n",
      " 'root' 'RSP' 'root' 'SCs' 'SCs' 'root' 'PAG' 'SCm' 'RSP' 'RSP' 'MRN'\n",
      " 'MRN' 'SCm' 'RSP' 'MRN' 'root' 'PAG' 'SCs' 'MRN' 'RSP' 'RSP' 'root' 'SCm'\n",
      " 'SCm' 'SCs' 'root' 'RSP' 'PAG' 'RSP' 'root' 'root' 'MRN' 'RSP' 'MRN'\n",
      " 'root' 'SCm' 'SCm' 'SCs' 'MRN' 'SCm' 'RSP' 'RSP' 'RSP' 'SCm' 'RSP' 'MRN'\n",
      " 'SCs' 'SCs' 'MRN' 'RSP' 'SCm' 'MRN' 'SCs' 'SCm' 'SCs' 'PAG' 'SCs' 'SCs'\n",
      " 'PAG' 'SCm' 'SCs' 'MRN' 'RSP' 'SCm' 'PAG' 'PAG' 'SCs' 'root' 'SCs' 'PAG'\n",
      " 'SCs' 'SCs' 'PAG' 'PAG' 'PAG' 'SCs' 'SCs' 'SCs' 'root' 'SCm' 'SCs' 'SCs'\n",
      " 'SCs' 'SCs' 'PAG' 'SCs' 'root' 'SCs' 'RSP' 'SCm' 'root' 'RSP' 'SCm'\n",
      " 'root' 'SCs' 'SCm' 'PAG' 'SCm' 'SCs' 'SCm' 'root' 'PAG' 'RSP' 'SCs'\n",
      " 'root' 'PAG' 'MRN' 'SCm' 'RSP' 'PAG' 'RSP' 'SCm' 'RSP' 'SCs' 'SCs' 'SCs'\n",
      " 'PAG' 'PAG' 'PAG' 'SCs' 'PAG' 'SCs' 'SCs' 'PAG' 'MRN' 'SCm' 'RSP' 'SCs'\n",
      " 'SCm' 'RSP' 'SCm' 'MRN' 'RSP' 'SCs' 'SCm' 'SCm' 'PAG' 'SCm' 'SCm' 'PAG'\n",
      " 'SCm' 'RSP' 'SCs' 'PAG' 'SCm' 'root' 'SCm' 'SCs' 'PAG' 'MRN' 'MRN' 'root'\n",
      " 'root' 'SCm' 'SCs' 'MRN' 'SCm' 'PAG' 'SCm' 'SCm' 'SCs' 'SCs' 'SCm' 'PAG'\n",
      " 'MRN' 'SCs' 'SCm' 'PAG' 'root' 'RSP' 'RSP' 'PAG' 'SCm' 'RSP' 'PAG' 'SCs'\n",
      " 'RSP' 'PAG']\n"
     ]
    }
   ],
   "source": [
    "data_path = '/Users/xinweichia/Documents/connected_lizards/Steinmetz_dataset/Richards_2017-10-31'\n",
    "\n",
    "good_cells, brain_regions ,br = spike_process.get_good_cells(data_path) # Get brain regions\n",
    "\n",
    "print(brain_regions)"
   ]
  },
  {
   "cell_type": "code",
   "execution_count": null,
   "metadata": {},
   "outputs": [],
   "source": []
  }
 ],
 "metadata": {
  "kernelspec": {
   "display_name": "Python 3",
   "language": "python",
   "name": "python3"
  },
  "language_info": {
   "codemirror_mode": {
    "name": "ipython",
    "version": 3
   },
   "file_extension": ".py",
   "mimetype": "text/x-python",
   "name": "python",
   "nbconvert_exporter": "python",
   "pygments_lexer": "ipython3",
   "version": "3.7.1"
  }
 },
 "nbformat": 4,
 "nbformat_minor": 2
}
