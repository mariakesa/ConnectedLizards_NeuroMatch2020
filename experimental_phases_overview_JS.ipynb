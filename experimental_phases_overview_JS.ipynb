{
 "cells": [
  {
   "cell_type": "code",
   "execution_count": 6,
   "metadata": {},
   "outputs": [
    {
     "data": {
      "text/plain": [
       "[Text(0, 0, 'trial_start'),\n",
       " Text(0, 0, 'trial_end'),\n",
       " Text(0, 0, 'passive visual'),\n",
       " Text(0, 0, 'passiveValveClick'),\n",
       " Text(0, 0, 'passiveBeeps'),\n",
       " Text(0, 0, 'passiveWhiteNoise'),\n",
       " Text(0, 0, 'spontaneous_intervals_begin'),\n",
       " Text(0, 0, 'spontaneous_intervals_end')]"
      ]
     },
     "execution_count": 6,
     "metadata": {},
     "output_type": "execute_result"
    },
    {
     "data": {
      "image/png": "[encoded data removed]",
      "text/plain": [
       "<Figure size 432x288 with 1 Axes>"
      ]
     },
     "metadata": {
      "needs_background": "light"
     },
     "output_type": "display_data"
    }
   ],
   "source": [
    "import numpy as np\n",
    "import matplotlib.pyplot as plt\n",
    "\n",
    "all_data_path='/Users/jean/git/steinmetz-et-al-2019/data'\n",
    "selected_recordings= 'Richards_2017-10-31'\n",
    "data_path = all_data_path+'/'+selected_recordings\n",
    "\n",
    "## SPONTANEOUS INTERVALS\n",
    "spontaneous_intervals = np.load(data_path+'/'+'spontaneous.intervals.npy')\n",
    "\n",
    "### TRIALS\n",
    "trials_intervals = np.load(data_path+'/'+'trials.intervals.npy') # in seconds\n",
    "trials_visual_time = np.load(data_path+'/'+'trials.visualStim_times.npy')\n",
    "trials_gocue_times = np.load(data_path+'/'+'trials.goCue_times.npy')\n",
    "trials_response_time = np.load(data_path+'/'+'trials.response_times.npy')\n",
    "# trials_feedback_time = np.load(data_path+'/'+'feedback_times.npy')\n",
    "# trials_feedbackType = np.load(data_path+'/'+'feedbackType.npy')\n",
    "#trials_response_choice = np.load(data_path+'/'+'trials.response_choice.npy') # -1 left, 1, right, 0 no response\n",
    "\n",
    "\n",
    "## RECEPTIVE FIELD MAPPING\n",
    "sparseNoise_time_sec = np.load(data_path+'/'+'sparseNoise.times.npy')\n",
    "sparseNoise_positions = np.load(data_path+'/'+'sparseNoise.positions.npy')\n",
    "### PASSIVE VISUAL STIMS\n",
    "passiveVisual_time_sec = np.load(data_path+'/'+'passiveVisual.times.npy')\n",
    "# contrastLeft.\n",
    "# contrastRight.\n",
    "passiveValveClick_time_sec = np.load(data_path+'/'+'passiveValveClick.times.npy')\n",
    "passiveBeeps_time_sec = np.load(data_path+'/'+'passiveBeeps.times.npy')\n",
    "passiveWhiteNoise_time_sec = np.load(data_path+'/'+'passiveWhiteNoise.times.npy')\n",
    "behavfig = plt.figure() \n",
    "AX = behavfig.add_axes([0, 0, 3,0.5])\n",
    "AX.eventplot(trials_intervals[:,0], colors='black', lineoffsets=-1)\n",
    "AX.eventplot(trials_intervals[:,1], colors='black', lineoffsets=0)\n",
    "AX.eventplot(passiveVisual_time_sec[:,0], colors='red', lineoffsets=1)\n",
    "AX.eventplot(passiveValveClick_time_sec[:,0], colors='green', lineoffsets=2)\n",
    "AX.eventplot(passiveBeeps_time_sec[:,0], colors='yellow', lineoffsets=3)\n",
    "AX.eventplot(passiveWhiteNoise_time_sec[:,0], colors='cyan', lineoffsets=4)\n",
    "AX.eventplot(spontaneous_intervals[:,0], colors='blue', lineoffsets=5) ## begining of spontaneous intervals\n",
    "AX.eventplot(spontaneous_intervals[:,1], colors='blue', lineoffsets=6) ## end of spontaneous intervals\n",
    "AX.set_xlabel('time sec')\n",
    "AX.axis('tight')\n",
    "AX.set_yticks([-1,0,1,2,3,4,5,6])\n",
    "AX.set_yticklabels(['trial_start', 'trial_end', 'passive visual',\\\n",
    "                       'passiveValveClick', 'passiveBeeps', 'passiveWhiteNoise',\\\n",
    "                      'spontaneous_intervals_begin', 'spontaneous_intervals_end'])\n",
    "# AX.set_xlim(300, 700)"
   ]
  },
  {
   "cell_type": "code",
   "execution_count": null,
   "metadata": {},
   "outputs": [],
   "source": []
  }
 ],
 "metadata": {
  "kernelspec": {
   "display_name": "Python 3",
   "language": "python",
   "name": "python3"
  },
  "language_info": {
   "codemirror_mode": {
    "name": "ipython",
    "version": 3
   },
   "file_extension": ".py",
   "mimetype": "text/x-python",
   "name": "python",
   "nbconvert_exporter": "python",
   "pygments_lexer": "ipython3",
   "version": "3.7.6"
  }
 },
 "nbformat": 4,
 "nbformat_minor": 4
}
