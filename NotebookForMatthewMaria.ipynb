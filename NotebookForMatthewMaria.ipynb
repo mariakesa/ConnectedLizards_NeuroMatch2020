{
 "cells": [
  {
   "cell_type": "code",
   "execution_count": 5,
   "metadata": {
    "scrolled": true
   },
   "outputs": [
    {
     "name": "stderr",
     "output_type": "stream",
     "text": [
      "/home/maria/anaconda3/lib/python3.7/importlib/_bootstrap.py:219: RuntimeWarning: numpy.ufunc size changed, may indicate binary incompatibility. Expected 192 from C header, got 216 from PyObject\n",
      "  return f(*args, **kwds)\n"
     ]
    }
   ],
   "source": [
    "import numpy as np\n",
    "from sklearn.linear_model import Ridge\n",
    "import numpy as np\n",
    "import os , csv\n",
    "from os import listdir\n",
    "import matplotlib.pyplot as plt\n",
    "import pandas as pd"
   ]
  },
  {
   "cell_type": "code",
   "execution_count": 3,
   "metadata": {},
   "outputs": [],
   "source": [
    "def get_good_cells(fdirpath): #\n",
    "    # location in brain of each neuron\n",
    "    brain_loc = os.path.join(fdirpath, \"channels.brainLocation.tsv\")\n",
    "\n",
    "    good_cells = (np.load(os.path.join(fdirpath, \"clusters._phy_annotation.npy\")) >= 2 ).flatten()\n",
    "    clust_channel = np.load(os.path.join(fdirpath, \"clusters.peakChannel.npy\")).astype(int) - 1\n",
    "    br = []\n",
    "    with open(brain_loc, 'r') as tsv:\n",
    "        tsvin = csv.reader(tsv, delimiter=\"\\t\")\n",
    "        k=0\n",
    "        for row in tsvin:\n",
    "            if k>0:\n",
    "                br.append(row[-1])\n",
    "            k+=1\n",
    "    br = np.array(br)\n",
    "    good_cells = np.logical_and(good_cells, clust_channel.flatten()<len(br))\n",
    "    brain_region = br[clust_channel[:,0]]\n",
    "\n",
    "\n",
    "    return good_cells, brain_region, br"
   ]
  },
  {
   "cell_type": "code",
   "execution_count": 8,
   "metadata": {},
   "outputs": [],
   "source": [
    "data_path= '/media/maria/DATA1/Documents/NeuroMatchAcademy2020_dat/unzipped_files/Richards_2017-10-31.tar'\n",
    "good_cells, brain_regions,br = get_good_cells(data_path)"
   ]
  },
  {
   "cell_type": "code",
   "execution_count": null,
   "metadata": {},
   "outputs": [],
   "source": [
    "#Cub-circuits of interest\n",
    "mid_brain_circuits=['SCs','SCm','MRN','APN','PAG','ZI']\n",
    "frontal_circuits=['MOs','PL','ILA','ORB','MOp','SSp']"
   ]
  },
  {
   "cell_type": "code",
   "execution_count": 9,
   "metadata": {},
   "outputs": [],
   "source": [
    "dat=np.load('trial_av_dat.npy')"
   ]
  },
  {
   "cell_type": "code",
   "execution_count": 10,
   "metadata": {
    "scrolled": true
   },
   "outputs": [
    {
     "name": "stdout",
     "output_type": "stream",
     "text": [
      "(122, 75)\n"
     ]
    }
   ],
   "source": [
    "mos=dat[brain_regions=='MOs']\n",
    "print(mos.shape)\n",
    "scs=dat[brain_regions=='SCs']"
   ]
  },
  {
   "cell_type": "code",
   "execution_count": 41,
   "metadata": {},
   "outputs": [],
   "source": [
    "from sklearn.model_selection import train_test_split\n",
    "\n",
    "front_train, front_test, mid_train,mid_test=train_test_split(mos.T,scs.T, test_size=0.33, random_state=42)"
   ]
  },
  {
   "cell_type": "code",
   "execution_count": 70,
   "metadata": {
    "scrolled": true
   },
   "outputs": [
    {
     "name": "stdout",
     "output_type": "stream",
     "text": [
      "(50, 5)\n",
      "[0.02589523 0.00681757 0.00532994 0.00392899 0.00303052]\n",
      "[0.2255974  0.04749687 0.0053819  0.00257394 0.00129414 0.00120877\n",
      " 0.00093061 0.00089674 0.00076753 0.00070504]\n",
      "[0.02589523 0.0327128  0.03804275 0.04197174 0.04500226]\n",
      "[0.2255974  0.27309427 0.27847617 0.28105011 0.28234425 0.28355302\n",
      " 0.28448362 0.28538037 0.2861479  0.28685294]\n"
     ]
    }
   ],
   "source": [
    "from sklearn.decomposition import PCA\n",
    "pca_mid=PCA(n_components=5)\n",
    "pca_frontal=PCA(n_components=10)\n",
    "pcs_mid=pca_mid.fit_transform(mid_train)\n",
    "print(pcs_mid.shape)\n",
    "pcs_front=pca_frontal.fit_transform(front_train)\n",
    "print(pca_mid.explained_variance_)\n",
    "print(pca_frontal.explained_variance_)\n",
    "print(np.cumsum(pca_mid.explained_variance_))\n",
    "print(np.cumsum(pca_frontal.explained_variance_))"
   ]
  },
  {
   "cell_type": "code",
   "execution_count": 43,
   "metadata": {},
   "outputs": [
    {
     "name": "stdout",
     "output_type": "stream",
     "text": [
      "(50, 10)\n",
      "(50, 10)\n"
     ]
    }
   ],
   "source": [
    "print(pcs_front.shape)\n",
    "print(pcs_mid.shape)"
   ]
  },
  {
   "cell_type": "code",
   "execution_count": 71,
   "metadata": {
    "scrolled": false
   },
   "outputs": [
    {
     "name": "stdout",
     "output_type": "stream",
     "text": [
      "\n",
      "(25, 5)\n",
      "-0.03167029761738858\n",
      "-0.37427187141339624\n",
      "-0.24293908520088495\n",
      "-0.30899075231374223\n",
      "0.25437290036550314\n"
     ]
    }
   ],
   "source": [
    "from sklearn.linear_model import Ridge\n",
    "\n",
    "mod=Ridge()\n",
    "\n",
    "mod.fit(pcs_front,pcs_mid)\n",
    "print()\n",
    "#mod.score(X_test,y_test)\n",
    "pr=mod.predict(pca_frontal.transform(front_test))\n",
    "print(pr.shape)\n",
    "#print(y_test.shape)\n",
    "pcs_corr=[]\n",
    "for j in range(0,5):\n",
    "    print(np.corrcoef(pr[:,j],mid_test[:,j])[0,1])\n",
    "    pcs_corr.append(np.corrcoef(pr[:,j],mid_test[:,j])[0,1])"
   ]
  },
  {
   "cell_type": "code",
   "execution_count": 72,
   "metadata": {
    "scrolled": true
   },
   "outputs": [
    {
     "data": {
      "text/plain": [
       "(array([1., 1., 1., 0., 0., 1., 0., 0., 0., 1.]),\n",
       " array([-0.37427187, -0.31140739, -0.24854292, -0.18567844, -0.12281396,\n",
       "        -0.05994949,  0.00291499,  0.06577947,  0.12864395,  0.19150842,\n",
       "         0.2543729 ]),\n",
       " <a list of 10 Patch objects>)"
      ]
     },
     "execution_count": 72,
     "metadata": {},
     "output_type": "execute_result"
    },
    {
     "data": {
      "image/png": "[encoded data removed]",
      "text/plain": [
       "<Figure size 432x288 with 1 Axes>"
      ]
     },
     "metadata": {
      "needs_background": "light"
     },
     "output_type": "display_data"
    }
   ],
   "source": [
    "plt.hist(pcs_corr)"
   ]
  },
  {
   "cell_type": "code",
   "execution_count": 98,
   "metadata": {
    "scrolled": true
   },
   "outputs": [
    {
     "name": "stdout",
     "output_type": "stream",
     "text": [
      "(25, 122)\n",
      "(25, 5)\n"
     ]
    }
   ],
   "source": [
    "mod.coef_.shape\n",
    "print(front_test.shape)\n",
    "pca_frontal.transform(front_test).shape\n",
    "print(pca_mid.transform(mid_test).shape)"
   ]
  },
  {
   "cell_type": "code",
   "execution_count": 97,
   "metadata": {
    "scrolled": true
   },
   "outputs": [
    {
     "name": "stdout",
     "output_type": "stream",
     "text": [
      "(5, 25)\n",
      "(5, 25)\n",
      "(5, 25)\n",
      "(5, 25)\n",
      "(5, 25)\n"
     ]
    }
   ],
   "source": [
    "predictions=[]\n",
    "for pc in range(0,5):\n",
    "    prediction=mod.coef_@pca_frontal.transform(front_test).T\n",
    "    print(prediction.shape)"
   ]
  },
  {
   "cell_type": "code",
   "execution_count": 112,
   "metadata": {},
   "outputs": [],
   "source": [
    "def variance_explained(dat_mat,prediction_mat):\n",
    "    residuals=(dat_mat-prediction_mat.T)**2\n",
    "    print(residuals.shape)\n",
    "    natural_variance=(dat_mat-np.mean(dat_mat,axis=0))**2\n",
    "    print(natural_variance.shape)\n",
    "    return 1-residuals.sum()/natural_variance.sum()"
   ]
  },
  {
   "cell_type": "code",
   "execution_count": 113,
   "metadata": {},
   "outputs": [
    {
     "name": "stdout",
     "output_type": "stream",
     "text": [
      "(25, 5)\n",
      "(25, 5)\n"
     ]
    },
    {
     "data": {
      "text/plain": [
       "0.546605197777607"
      ]
     },
     "execution_count": 113,
     "metadata": {},
     "output_type": "execute_result"
    }
   ],
   "source": [
    "variance_explained(pca_mid.transform(mid_test),prediction)"
   ]
  },
  {
   "cell_type": "code",
   "execution_count": 122,
   "metadata": {},
   "outputs": [
    {
     "name": "stderr",
     "output_type": "stream",
     "text": [
      "/home/maria/anaconda3/lib/python3.7/site-packages/sklearn/base.py:434: FutureWarning: The default value of multioutput (not exposed in score method) will change from 'variance_weighted' to 'uniform_average' in 0.23 to keep consistent with 'metrics.r2_score'. To specify the default value manually and avoid the warning, please either call 'metrics.r2_score' directly or make a custom scorer with 'metrics.make_scorer' (the built-in scorer 'r2' uses multioutput='uniform_average').\n",
      "  \"multioutput='uniform_average').\", FutureWarning)\n"
     ]
    },
    {
     "data": {
      "text/plain": [
       "0.5466051977776063"
      ]
     },
     "execution_count": 122,
     "metadata": {},
     "output_type": "execute_result"
    }
   ],
   "source": [
    "pca_mid.transform(mid_test).shape\n",
    "#pca_frontal.transform(front_test).shape\n",
    "mod.score(pca_frontal.transform(front_test),pca_mid.transform(mid_test))"
   ]
  }
 ],
 "metadata": {
  "kernelspec": {
   "display_name": "Python 3",
   "language": "python",
   "name": "python3"
  },
  "language_info": {
   "codemirror_mode": {
    "name": "ipython",
    "version": 3
   },
   "file_extension": ".py",
   "mimetype": "text/x-python",
   "name": "python",
   "nbconvert_exporter": "python",
   "pygments_lexer": "ipython3",
   "version": "3.7.7"
  }
 },
 "nbformat": 4,
 "nbformat_minor": 4
}
