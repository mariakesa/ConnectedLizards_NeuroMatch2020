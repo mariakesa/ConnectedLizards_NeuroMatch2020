{
 "cells": [
  {
   "cell_type": "code",
   "execution_count": 1,
   "metadata": {},
   "outputs": [],
   "source": [
    "# Import libraries\n",
    "import numpy as np\n",
    "import os , csv\n",
    "from os import listdir\n",
    "import matplotlib.pyplot as plt\n",
    "import pandas as pd\n"
   ]
  },
  {
   "cell_type": "code",
   "execution_count": 22,
   "metadata": {},
   "outputs": [],
   "source": [
    "# Load desired data from 1 session 1 animal\n",
    "# Note that there are 340 trials in 1 session\n",
    "# (For more info https://github.com/nsteinme/steinmetz-et-al-2019/wiki/data-files)\n",
    "\n",
    "data_path= '/media/maria/DATA1/Documents/NeuroMatchAcademy2020_dat/unzipped_files/Richards_2017-10-31.tar'\n",
    "\n",
    "os.chdir(data_path) # Change working directory\n",
    "\n",
    "\n",
    "trials_intervals = np.load('trials.intervals.npy') # in seconds\n",
    "spike_times = np.load('spikes.times.npy') * 1000 # Unbinned spike times in ms\n",
    "trials_gocue_times = np.load('trials.goCue_times.npy') \n",
    "trials_response_choice = np.load('trials.response_choice.npy') # -1 left, 1, right, 0 no response\n",
    "spontaneous_intervals = np.load('spontaneous.intervals.npy')\n",
    "trials_response_time = np.load('trials.response_times.npy')\n",
    "spike_clusters = np.load('spikes.clusters.npy')\n",
    "site_positions = np.load('channels.sitePositions.npy')\n",
    "clusters_depths = np.load('clusters.depths.npy')\n",
    "clusters_annotation = np.load('clusters._phy_annotation.npy')\n",
    "channel_sites = np.load('channels.site.npy')\n",
    "channels_brainlocation = pd.read_csv('channels.brainLocation.tsv', sep='\\t')\n",
    "clusters_probes = np.load('clusters.probes.npy')\n",
    "channels_probe = np.load('channels.probe.npy')\n"
   ]
  },
  {
   "cell_type": "code",
   "execution_count": 3,
   "metadata": {},
   "outputs": [],
   "source": [
    "# Taken from https://github.com/MouseLand/steinmetz2019_NMA/blob/master/steinmetz_loader.py\n",
    "# To obtain brain regions\n",
    "def get_good_cells(fdirpath): #\n",
    "    # location in brain of each neuron\n",
    "    brain_loc = os.path.join(fdirpath, \"channels.brainLocation.tsv\")\n",
    "\n",
    "    good_cells = (np.load(os.path.join(fdirpath, \"clusters._phy_annotation.npy\")) >= 2 ).flatten()\n",
    "    clust_channel = np.load(os.path.join(fdirpath, \"clusters.peakChannel.npy\")).astype(int) - 1\n",
    "    br = []\n",
    "    with open(brain_loc, 'r') as tsv:\n",
    "        tsvin = csv.reader(tsv, delimiter=\"\\t\")\n",
    "        k=0\n",
    "        for row in tsvin:\n",
    "            if k>0:\n",
    "                br.append(row[-1])\n",
    "            k+=1\n",
    "    br = np.array(br)\n",
    "    good_cells = np.logical_and(good_cells, clust_channel.flatten()<len(br))\n",
    "    brain_region = br[clust_channel[:,0]]\n",
    "\n",
    "\n",
    "    return good_cells, brain_region, br\n",
    "\n",
    "good_cells, brain_regions ,br = get_good_cells('')"
   ]
  },
  {
   "cell_type": "code",
   "execution_count": 5,
   "metadata": {
    "scrolled": true
   },
   "outputs": [
    {
     "name": "stdout",
     "output_type": "stream",
     "text": [
      "(778,)\n",
      "['ORB' 'MOs' 'ORB' 'ORB' 'MOs' 'MOs' 'ORB' 'MOs' 'ORB' 'ORB' 'MOs' 'MOs'\n",
      " 'ORB' 'ORB' 'ORB' 'ORB' 'ORB' 'ORB' 'ORB' 'ORB' 'OLF' 'ORB' 'OLF' 'ORB'\n",
      " 'MOs' 'ORB' 'ORB' 'ORB' 'ORB' 'ORB' 'ORB' 'ORB' 'ORB' 'ORB' 'MOs' 'ORB'\n",
      " 'ORB' 'ORB' 'MOs' 'MOs' 'ORB' 'ORB' 'MOs' 'ORB' 'ORB' 'ORB' 'ORB' 'ORB'\n",
      " 'MOs' 'ORB' 'MOs' 'ORB' 'ORB' 'ORB' 'ORB' 'ORB' 'ORB' 'ORB' 'MOs' 'ORB'\n",
      " 'ORB' 'ORB' 'MOs' 'ORB' 'ORB' 'ORB' 'ORB' 'ORB' 'ORB' 'ORB' 'ORB' 'ORB'\n",
      " 'ORB' 'ORB' 'ORB' 'MOs' 'MOs' 'MOs' 'ORB' 'MOs' 'ORB' 'ORB' 'MOs' 'MOs'\n",
      " 'OLF' 'ORB' 'MOs' 'ORB' 'ORB' 'ORB' 'MOs' 'ORB' 'ORB' 'MOs' 'MOs' 'ORB'\n",
      " 'ORB' 'OLF' 'ORB' 'ORB' 'ORB' 'ORB' 'MOs' 'ORB' 'ORB' 'OLF' 'MOs' 'MOs'\n",
      " 'MOs' 'OLF' 'MOs' 'ORB' 'MOs' 'ORB' 'MOs' 'ORB' 'ORB' 'ORB' 'MOs' 'ORB'\n",
      " 'MOs' 'MOs' 'ORB' 'MOs' 'ORB' 'ORB' 'ORB' 'ORB' 'OLF' 'ORB' 'ORB' 'OLF'\n",
      " 'ORB' 'ORB' 'ORB' 'ORB' 'MOs' 'ORB' 'ORB' 'ORB' 'MOs' 'ORB' 'ORB' 'ORB'\n",
      " 'ORB' 'ORB' 'ORB' 'ORB' 'ORB' 'ORB' 'ORB' 'ORB' 'ORB' 'MOs' 'MOs' 'ORB'\n",
      " 'ORB' 'ORB' 'MOs' 'MOs' 'MOs' 'ORB' 'MOs' 'ORB' 'MOs' 'ORB' 'ORB' 'MOs'\n",
      " 'MOs' 'ORB' 'ORB' 'MOs' 'ORB' 'ORB' 'MOs' 'ORB' 'ORB' 'MOs' 'ORB' 'MOs'\n",
      " 'ORB' 'ORB' 'ORB' 'ORB' 'ORB' 'MOs' 'ORB' 'ORB' 'MOs' 'ORB' 'ORB' 'ORB'\n",
      " 'ORB' 'MOs' 'MOs' 'ORB' 'MOs' 'ORB' 'MOs' 'ORB' 'ORB' 'MOs' 'ORB' 'ORB'\n",
      " 'MOs' 'MOs' 'OLF' 'MOs' 'ORB' 'ORB' 'ORB' 'ORB' 'MOs' 'MOs' 'MOs' 'MOs'\n",
      " 'ORB' 'ORB' 'ORB' 'ORB' 'MOs' 'MOs' 'ORB' 'ORB' 'ORB' 'ORB' 'ORB' 'ORB'\n",
      " 'MOs' 'MOs' 'ORB' 'MOs' 'MOs' 'ORB' 'MOs' 'MOs' 'MOs' 'MOs' 'ORB' 'MOs'\n",
      " 'ORB' 'ORB' 'MOs' 'ORB' 'MOs' 'MOs' 'ORB' 'MOs' 'ORB' 'ORB' 'ORB' 'ORB'\n",
      " 'ORB' 'ORB' 'ORB' 'ORB' 'ORB' 'ORB' 'MOs' 'MOs' 'ORB' 'ORB' 'ORB' 'ORB'\n",
      " 'ORB' 'ORB' 'ORB' 'ORB' 'MOs' 'ORB' 'ORB' 'MOs' 'MOs' 'MOs' 'ORB' 'MOs'\n",
      " 'MOs' 'ORB' 'ORB' 'ORB' 'MOs' 'ORB' 'MOs' 'MOs' 'ORB' 'ORB' 'MOs' 'MOs'\n",
      " 'MOs' 'MOs' 'MOs' 'ORB' 'ORB' 'MOs' 'MOs' 'ORB' 'MOs' 'MOs' 'MOs' 'ORB'\n",
      " 'ORB' 'MOs' 'MOs' 'MOs' 'ORB' 'ORB' 'MOs' 'ORB' 'ORB' 'ORB' 'ORB' 'MOs'\n",
      " 'ORB' 'ORB' 'ORB' 'MOs' 'OLF' 'ORB' 'ORB' 'ORB' 'MOs' 'ORB' 'MOs' 'MOs'\n",
      " 'ORB' 'ORB' 'ORB' 'ORB' 'MOs' 'ORB' 'MOs' 'MOs' 'ORB' 'ORB' 'MOs' 'ORB'\n",
      " 'ORB' 'MOs' 'MOs' 'ORB' 'MOs' 'MOs' 'MOs' 'MOs' 'MOs' 'MOs' 'ORB' 'ORB'\n",
      " 'ORB' 'OLF' 'OLF' 'OLF' 'RSP' 'RSP' 'RSP' 'SCs' 'RSP' 'MRN' 'SCs' 'RSP'\n",
      " 'SCm' 'RSP' 'MRN' 'root' 'SCm' 'MRN' 'SCm' 'RSP' 'SCs' 'RSP' 'RSP' 'SCs'\n",
      " 'PAG' 'SCm' 'RSP' 'RSP' 'RSP' 'PAG' 'RSP' 'RSP' 'SCs' 'RSP' 'RSP' 'SCm'\n",
      " 'root' 'SCm' 'SCs' 'SCm' 'RSP' 'SCs' 'SCs' 'SCs' 'SCs' 'MRN' 'PAG' 'SCs'\n",
      " 'RSP' 'SCm' 'root' 'RSP' 'SCs' 'RSP' 'MRN' 'SCs' 'SCm' 'PAG' 'SCs' 'RSP'\n",
      " 'SCs' 'RSP' 'SCs' 'PAG' 'MRN' 'MRN' 'root' 'PAG' 'SCm' 'SCs' 'SCs' 'SCs'\n",
      " 'SCs' 'PAG' 'SCs' 'SCm' 'MRN' 'SCs' 'SCm' 'PAG' 'root' 'SCm' 'RSP' 'MRN'\n",
      " 'PAG' 'RSP' 'SCs' 'SCs' 'PAG' 'PAG' 'SCs' 'root' 'SCm' 'SCs' 'SCs' 'SCs'\n",
      " 'root' 'SCs' 'RSP' 'RSP' 'MRN' 'SCm' 'RSP' 'root' 'SCs' 'RSP' 'SCs' 'RSP'\n",
      " 'RSP' 'RSP' 'PAG' 'SCs' 'PAG' 'RSP' 'RSP' 'SCs' 'SCs' 'SCs' 'MRN' 'SCs'\n",
      " 'RSP' 'root' 'SCm' 'SCs' 'RSP' 'RSP' 'PAG' 'SCs' 'SCs' 'SCs' 'PAG' 'SCm'\n",
      " 'PAG' 'RSP' 'MRN' 'SCs' 'PAG' 'PAG' 'SCm' 'SCm' 'SCs' 'SCm' 'PAG' 'SCm'\n",
      " 'SCm' 'MRN' 'SCs' 'PAG' 'RSP' 'SCm' 'SCs' 'RSP' 'SCs' 'SCm' 'RSP' 'SCs'\n",
      " 'MRN' 'RSP' 'RSP' 'SCs' 'PAG' 'SCs' 'PAG' 'SCm' 'PAG' 'RSP' 'RSP' 'SCs'\n",
      " 'RSP' 'RSP' 'PAG' 'PAG' 'SCs' 'RSP' 'RSP' 'SCm' 'root' 'PAG' 'SCs' 'SCm'\n",
      " 'SCm' 'SCs' 'SCs' 'MRN' 'PAG' 'RSP' 'PAG' 'SCs' 'PAG' 'SCm' 'SCs' 'SCs'\n",
      " 'RSP' 'SCs' 'RSP' 'SCs' 'RSP' 'SCs' 'SCs' 'root' 'SCs' 'SCs' 'SCm' 'SCs'\n",
      " 'root' 'MRN' 'SCs' 'SCs' 'PAG' 'RSP' 'RSP' 'MRN' 'MRN' 'MRN' 'PAG' 'RSP'\n",
      " 'SCm' 'RSP' 'RSP' 'SCs' 'PAG' 'RSP' 'RSP' 'RSP' 'SCs' 'SCm' 'MRN' 'PAG'\n",
      " 'RSP' 'RSP' 'RSP' 'SCm' 'SCm' 'SCm' 'RSP' 'PAG' 'root' 'SCs' 'RSP' 'SCm'\n",
      " 'MRN' 'SCs' 'RSP' 'PAG' 'SCm' 'RSP' 'RSP' 'RSP' 'SCs' 'SCs' 'SCm' 'PAG'\n",
      " 'root' 'RSP' 'root' 'SCs' 'SCs' 'root' 'PAG' 'SCm' 'RSP' 'RSP' 'MRN'\n",
      " 'MRN' 'SCm' 'RSP' 'MRN' 'root' 'PAG' 'SCs' 'MRN' 'RSP' 'RSP' 'root' 'SCm'\n",
      " 'SCm' 'SCs' 'root' 'RSP' 'PAG' 'RSP' 'root' 'root' 'MRN' 'RSP' 'MRN'\n",
      " 'root' 'SCm' 'SCm' 'SCs' 'MRN' 'SCm' 'RSP' 'RSP' 'RSP' 'SCm' 'RSP' 'MRN'\n",
      " 'SCs' 'SCs' 'MRN' 'RSP' 'SCm' 'MRN' 'SCs' 'SCm' 'SCs' 'PAG' 'SCs' 'SCs'\n",
      " 'PAG' 'SCm' 'SCs' 'MRN' 'RSP' 'SCm' 'PAG' 'PAG' 'SCs' 'root' 'SCs' 'PAG'\n",
      " 'SCs' 'SCs' 'PAG' 'PAG' 'PAG' 'SCs' 'SCs' 'SCs' 'root' 'SCm' 'SCs' 'SCs'\n",
      " 'SCs' 'SCs' 'PAG' 'SCs' 'root' 'SCs' 'RSP' 'SCm' 'root' 'RSP' 'SCm'\n",
      " 'root' 'SCs' 'SCm' 'PAG' 'SCm' 'SCs' 'SCm' 'root' 'PAG' 'RSP' 'SCs'\n",
      " 'root' 'PAG' 'MRN' 'SCm' 'RSP' 'PAG' 'RSP' 'SCm' 'RSP' 'SCs' 'SCs' 'SCs'\n",
      " 'PAG' 'PAG' 'PAG' 'SCs' 'PAG' 'SCs' 'SCs' 'PAG' 'MRN' 'SCm' 'RSP' 'SCs'\n",
      " 'SCm' 'RSP' 'SCm' 'MRN' 'RSP' 'SCs' 'SCm' 'SCm' 'PAG' 'SCm' 'SCm' 'PAG'\n",
      " 'SCm' 'RSP' 'SCs' 'PAG' 'SCm' 'root' 'SCm' 'SCs' 'PAG' 'MRN' 'MRN' 'root'\n",
      " 'root' 'SCm' 'SCs' 'MRN' 'SCm' 'PAG' 'SCm' 'SCm' 'SCs' 'SCs' 'SCm' 'PAG'\n",
      " 'MRN' 'SCs' 'SCm' 'PAG' 'root' 'RSP' 'RSP' 'PAG' 'SCm' 'RSP' 'PAG' 'SCs'\n",
      " 'RSP' 'PAG']\n"
     ]
    }
   ],
   "source": [
    "print(good_cells.shape)\n",
    "print(brain_regions)"
   ]
  },
  {
   "cell_type": "code",
   "execution_count": 20,
   "metadata": {
    "scrolled": true
   },
   "outputs": [
    {
     "name": "stdout",
     "output_type": "stream",
     "text": [
      "(778,)\n",
      "[ True  True  True  True  True False  True  True  True  True  True False\n",
      "  True  True  True  True  True  True False  True False  True False  True\n",
      " False  True  True  True  True  True False  True  True  True  True  True\n",
      "  True  True False  True  True  True  True False  True  True  True  True\n",
      " False  True  True  True  True False  True False False  True  True  True\n",
      "  True  True  True  True  True False  True False  True  True  True  True\n",
      "  True  True  True  True  True  True False False  True  True  True  True\n",
      " False  True  True False  True  True  True  True  True False  True  True\n",
      " False False  True False False  True False False  True  True  True  True\n",
      " False False  True  True  True False False  True  True  True  True  True\n",
      " False False  True  True  True  True  True  True False  True False False\n",
      "  True False  True False  True  True False  True  True False  True  True\n",
      " False  True False  True  True  True  True  True  True  True False  True\n",
      "  True  True False  True  True  True False  True  True False  True False\n",
      " False  True False False  True  True False  True  True  True  True False\n",
      "  True  True  True  True False  True  True  True  True  True  True False\n",
      "  True  True  True  True  True  True False  True False  True  True  True\n",
      "  True  True False False  True False False  True False False False  True\n",
      "  True False  True  True  True  True False  True  True False  True False\n",
      " False False False  True False False  True False  True False False False\n",
      "  True  True False  True False  True False  True False False  True False\n",
      " False  True False False  True  True  True False False  True False  True\n",
      " False  True  True False False False False  True False False  True  True\n",
      " False  True False  True  True  True  True False  True  True False False\n",
      " False False  True  True  True  True  True False False False  True False\n",
      "  True  True False False  True  True  True  True False False  True False\n",
      "  True False False False False  True False False False False  True  True\n",
      " False False  True False  True  True False False  True  True  True False\n",
      " False  True  True  True  True False  True  True  True  True  True  True\n",
      "  True  True  True  True  True  True  True  True  True False False  True\n",
      "  True  True  True False  True False False  True  True  True  True False\n",
      "  True  True  True  True  True  True False False  True  True  True False\n",
      "  True  True False  True False  True False  True False  True  True  True\n",
      "  True False  True  True  True  True False  True  True  True  True  True\n",
      "  True  True  True False False  True False  True  True  True  True False\n",
      "  True  True  True False False  True  True False  True  True False  True\n",
      "  True  True  True  True False  True  True  True False  True False False\n",
      " False  True False False False  True  True  True  True  True  True  True\n",
      "  True  True False False False  True  True  True  True  True False False\n",
      " False  True False  True  True  True  True  True  True False  True  True\n",
      "  True  True False False  True  True  True  True False  True  True  True\n",
      "  True  True False  True  True  True False  True False False False  True\n",
      "  True  True False  True False  True False  True False  True  True  True\n",
      "  True  True  True  True False  True  True  True False  True  True  True\n",
      "  True  True  True False  True False  True False  True  True  True False\n",
      "  True  True  True  True  True  True False  True  True False  True  True\n",
      " False False  True False  True False  True  True  True False  True  True\n",
      " False  True  True  True False  True  True  True  True  True  True  True\n",
      "  True False  True False  True  True  True  True  True False  True False\n",
      " False  True  True False  True  True  True False False  True  True  True\n",
      " False  True  True False  True False False False False  True  True  True\n",
      "  True  True  True False False  True  True  True False  True  True  True\n",
      " False  True  True  True False  True  True False  True False  True  True\n",
      " False  True  True  True False  True  True  True  True  True False False\n",
      "  True  True False  True  True  True  True  True False False False  True\n",
      " False False  True False False  True False False  True False False  True\n",
      "  True False  True  True False  True  True False  True  True  True  True\n",
      " False  True  True False  True  True  True  True  True  True  True False\n",
      "  True  True  True  True  True False  True  True  True False  True  True\n",
      "  True  True  True  True False False  True False False  True False  True\n",
      " False False False False  True  True  True  True  True False  True False\n",
      "  True  True  True False False  True False False False  True False  True\n",
      "  True  True  True False False  True  True  True  True  True  True  True\n",
      "  True  True  True  True  True  True  True  True  True  True  True  True\n",
      "  True  True  True  True  True  True  True  True  True  True]\n",
      "[ True  True  True  True  True False  True  True  True  True  True False\n",
      "  True  True  True  True  True  True False  True False  True False  True\n",
      " False  True  True  True  True  True False  True  True  True  True  True\n",
      "  True  True False  True  True  True  True False  True  True  True  True\n",
      " False  True  True  True  True False  True False False  True  True  True\n",
      "  True  True  True  True  True False  True False  True  True  True  True\n",
      "  True  True  True  True  True  True False False  True  True  True  True\n",
      " False  True  True False  True  True  True  True  True False  True  True\n",
      " False False  True False False  True False False  True  True  True  True\n",
      " False False  True  True  True False False  True  True  True  True  True\n",
      " False False  True  True  True  True  True  True False  True False False\n",
      "  True False  True False  True  True False  True  True False  True  True\n",
      " False  True False  True  True  True  True  True  True  True False  True\n",
      "  True  True False  True  True  True False  True  True False  True False\n",
      " False  True False False  True  True False  True  True  True  True False\n",
      "  True  True  True  True False  True  True  True  True  True  True False\n",
      "  True  True  True  True  True  True False  True False  True  True  True\n",
      "  True  True False False  True False False  True False False False  True\n",
      "  True False  True  True  True  True False  True  True False  True False\n",
      " False False False  True False False  True False  True False False False\n",
      "  True  True False  True False  True False  True False False  True False\n",
      " False  True False False  True  True  True False False  True False  True\n",
      " False  True  True False False False False  True False False  True  True\n",
      " False  True False  True  True  True  True False  True  True False False\n",
      " False False  True  True  True  True  True False False False  True False\n",
      "  True  True False False  True  True  True  True False False  True False\n",
      "  True False False False False  True False False False False  True  True\n",
      " False False  True False  True  True False False  True  True  True False\n",
      " False  True  True  True  True False  True  True  True  True  True  True\n",
      "  True  True  True  True  True  True  True  True  True False False  True\n",
      "  True  True  True False  True False False  True  True  True  True False\n",
      "  True  True  True  True  True  True False False  True  True  True False\n",
      "  True  True False  True False  True False  True False  True  True  True\n",
      "  True False  True  True  True  True False  True  True  True  True  True\n",
      "  True  True  True False False  True False  True  True  True  True False\n",
      "  True  True  True False False  True  True False  True  True False  True\n",
      "  True  True  True  True False  True  True  True False  True False False\n",
      " False  True False False False  True  True  True  True  True  True  True\n",
      "  True  True False False False  True  True  True  True  True False False\n",
      " False  True False  True  True  True  True  True  True False  True  True\n",
      "  True  True False False  True  True  True  True False  True  True  True\n",
      "  True  True False  True  True  True False  True False False False  True\n",
      "  True  True False  True False  True False  True False  True  True  True\n",
      "  True  True  True  True False  True  True  True False  True  True  True\n",
      "  True  True  True False  True False  True False  True  True  True False\n",
      "  True  True  True  True  True  True False  True  True False  True  True\n",
      " False False  True False  True False  True  True  True False  True  True\n",
      " False  True  True  True False  True  True  True  True  True  True  True\n",
      "  True False  True False  True  True  True  True  True False  True False\n",
      " False  True  True False  True  True  True False False  True  True  True\n",
      " False  True  True False  True False False False False  True  True  True\n",
      "  True  True  True False False  True  True  True False  True  True  True\n",
      " False  True  True  True False  True  True False  True False  True  True\n",
      " False  True  True  True False  True  True  True  True  True False False\n",
      "  True  True False  True  True  True  True  True False False False  True\n",
      " False False  True False False  True False False  True False False  True\n",
      "  True False  True  True False  True  True False  True  True  True  True\n",
      " False  True  True False  True  True  True  True  True  True  True False\n",
      "  True  True  True  True  True False  True  True  True False  True  True\n",
      "  True  True  True  True False False  True False False  True False  True\n",
      " False False False False  True  True  True  True  True False  True False\n",
      "  True  True  True False False  True False False False  True False  True\n",
      "  True  True  True False False  True  True  True  True  True  True  True\n",
      "  True  True  True  True  True  True  True  True  True  True  True  True\n",
      "  True  True  True  True  True  True  True  True  True  True]\n"
     ]
    },
    {
     "data": {
      "text/plain": [
       "array([357, 362, 365, 393, 402, 412, 413, 424, 431, 448, 466, 482, 493,\n",
       "       504, 531, 553, 559, 560, 561, 574, 588, 610, 611, 614, 618, 631,\n",
       "       633, 638, 645, 648, 651, 661, 706, 724, 731, 749, 750, 755, 764])"
      ]
     },
     "execution_count": 20,
     "metadata": {},
     "output_type": "execute_result"
    }
   ],
   "source": [
    "midbrain_area='MRN'\n",
    "frontal_area='MOs'\n",
    "good_cells=np.array(good_cells).flatten()\n",
    "print(good_cells.shape)\n",
    "midbrain_spike_times=good_cells[:]# or brain_regions==MOs]\n",
    "frontal_spike_times=good_cells[:]\n",
    "print(midbrain_spike_times)\n",
    "print(frontal_spike_times)\n",
    "np.where(brain_regions==midbrain_area)[0]"
   ]
  },
  {
   "cell_type": "code",
   "execution_count": 26,
   "metadata": {},
   "outputs": [
    {
     "data": {
      "text/plain": [
       "(778, 1)"
      ]
     },
     "execution_count": 26,
     "metadata": {},
     "output_type": "execute_result"
    }
   ],
   "source": [
    "clusters_annotation.shape"
   ]
  },
  {
   "cell_type": "code",
   "execution_count": 23,
   "metadata": {},
   "outputs": [
    {
     "name": "stdout",
     "output_type": "stream",
     "text": [
      "(522,)\n",
      "(522,)\n"
     ]
    }
   ],
   "source": [
    "# Initialising spike time dataset\n",
    "\n",
    "# Using clusters._phy_annotation.npy obtain valid clusters (i.e. >= 2)\n",
    "valid_clusters_idx = np.array(np.where(clusters_annotation>=2))[0]\n",
    "print(valid_clusters_idx.shape)\n",
    "\n",
    "spike_time_cells = np.empty(len(valid_clusters_idx), dtype=object) # Initalise empty object\n",
    "for i,cell_idx in enumerate(valid_clusters_idx):\n",
    "  # Create a spike time arrays, where each array in the array is a spike time of a cell\n",
    "  spike_time_cells[i] = spike_times[(np.where(spike_clusters == cell_idx)[0])]\n",
    "\n",
    "# Bin spike times into 10ms intervals\n",
    "bin_size = 10\n",
    "\n",
    "spike_time_binned = np.empty(len(valid_clusters_idx), dtype=object) # Initalise empty object\n",
    "sum_spikes = np.empty(len(valid_clusters_idx), dtype=object) # Initalise empty object\n",
    "\n",
    "for cell_num in np.arange(len(spike_time_cells)): \n",
    "  spike_time_hist = np.histogram(spike_time_cells[cell_num],bins = np.arange(0,np.floor(spike_time_cells[cell_num][-1]),bin_size))\n",
    "  spike_time_binned[cell_num] = spike_time_hist[0]\n",
    "  sum_spikes[cell_num] = np.sum(spike_time_binned[cell_num])\n",
    "\n",
    "print(spike_time_binned.shape)\n",
    "cell_spikes_max = np.argmax(sum_spikes) # cell with the maximum number of spikes for plotting purposes"
   ]
  },
  {
   "cell_type": "code",
   "execution_count": 28,
   "metadata": {},
   "outputs": [],
   "source": [
    "brain_areas=brain_regions[valid_clusters_idx]"
   ]
  },
  {
   "cell_type": "code",
   "execution_count": 41,
   "metadata": {},
   "outputs": [
    {
     "name": "stdout",
     "output_type": "stream",
     "text": [
      "(39,)\n",
      "(39,)\n"
     ]
    }
   ],
   "source": [
    "midbrain_spike_times=spike_time_binned[np.where(np.where(brain_regions==midbrain_area))[0]]# or brain_regions==MOs]\n",
    "frontal_spike_times=spike_time_binned[np.where(np.where(brain_regions==midbrain_area))[0]]\n",
    "print(midbrain_spike_times.shape)\n",
    "print(frontal_spike_times.shape)\n",
    "#np.where(brain_regions==midbrain_area)[0]"
   ]
  },
  {
   "cell_type": "code",
   "execution_count": 36,
   "metadata": {},
   "outputs": [
    {
     "name": "stdout",
     "output_type": "stream",
     "text": [
      "(522,)\n",
      "(296240,)\n"
     ]
    }
   ],
   "source": [
    "print(spike_time_binned.shape)\n",
    "print(spike_time_binned[1].shape)"
   ]
  },
  {
   "cell_type": "code",
   "execution_count": null,
   "metadata": {},
   "outputs": [],
   "source": [
    "# Sort cells into trial types and relevant epoch\n",
    "\n",
    "# Get response choice trials types\n",
    "right_choice_trials = np.where(trials_response_choice == -1)[0]\n",
    "left_choice_trials = np.where(trials_response_choice == 1)[0]\n",
    "no_response_choice_trials = np.where(trials_response_choice == 0)[0]\n",
    "\n",
    "response_epoch_duration  = 400 * 0.1 # 400ms in 10ms bins\n",
    "\n",
    "# Sort into trials\n",
    "spike_time_binned_trial = np.empty(len(spike_time_cells), dtype=object)\n",
    "spike_time_binned_trial_response = np.empty(len(spike_time_cells), dtype=object)\n",
    "for cell_num in np.arange(len(spike_time_cells)):\n",
    "  spike_time_binned_trial[cell_num] = np.empty(len(trials_intervals), dtype=object)\n",
    "  spike_time_binned_trial_response[cell_num] = np.empty(len(trials_intervals), dtype=object)\n",
    "  for i,trials_start_end in enumerate(trials_intervals):\n",
    "    # Sort spikes into their trial numbers. \n",
    "    spike_time_binned_trial[cell_num][i] = spike_time_binned[cell_num][ int(np.floor(trials_start_end[0]*100)) : int(np.floor(trials_start_end[1]*100))]\n",
    "    # Using Go_cue time to splice a trial into gocue onset : gocue onset +400ms\n",
    "    spike_time_binned_trial_response[cell_num][i] = spike_time_binned[cell_num][(int(np.floor(trials_gocue_times[i]*100))) : (int(np.floor(trials_gocue_times[i]*100) + epoch_duration))]\n",
    "\n",
    "\n",
    "# Sort trials into response type\n",
    "\n",
    "left_response_spike_time_response_epoch = The \n",
    "for cell_num in np.arange(len(spike_time_cells)):"
   ]
  }
 ],
 "metadata": {
  "kernelspec": {
   "display_name": "Python 3",
   "language": "python",
   "name": "python3"
  },
  "language_info": {
   "codemirror_mode": {
    "name": "ipython",
    "version": 3
   },
   "file_extension": ".py",
   "mimetype": "text/x-python",
   "name": "python",
   "nbconvert_exporter": "python",
   "pygments_lexer": "ipython3",
   "version": "3.7.7"
  }
 },
 "nbformat": 4,
 "nbformat_minor": 2
}
